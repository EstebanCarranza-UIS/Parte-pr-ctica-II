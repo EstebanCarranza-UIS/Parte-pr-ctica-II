{
  "cells": [
    {
      "cell_type": "markdown",
      "metadata": {
        "id": "view-in-github",
        "colab_type": "text"
      },
      "source": [
        "<a href=\"https://colab.research.google.com/github/EstebanCarranza-UIS/Parte-pr-ctica-II/blob/main/Parte_pr%C3%A1ctica_II.ipynb\" target=\"_parent\"><img src=\"https://colab.research.google.com/assets/colab-badge.svg\" alt=\"Open In Colab\"/></a>"
      ]
    },
    {
      "cell_type": "markdown",
      "metadata": {
        "id": "35Gjgbg6Gwrm"
      },
      "source": [
        "# **Introducción**\n",
        "En este estudio, se examinará la base de datos $\\text{nac2020.csv}$, que contiene datos sobre nacimientos en Colombia, con el propósito de responder preguntas clave acerca de dos variables: la edad de los padres $\\text{(EDAD_PADRE)}$ y el número de embarazos $\\text{(N_EMB)}$.\n",
        "\n",
        "Para ello, emplearemos diversas técnicas y herramientas estadísticas. Se dará inicio realizando una visualización de los datos univariados cuantitativos utilizando gráficos, y calcularemos medidas descriptivas fundamentales, como la media y la desviación estándar. A continuación, se hará análisis y relación entre las variables antes mencionadas mediante diagramas de dispersión y regresión lineal, con el objetivo de determinar las medidas descriptivas para datos univariados cuantitativos.\n",
        "\n",
        "En general, el enfoque del informe estará dirigido a las siguientes interrogativas:\n",
        "\n",
        "* ¿Cuál es el comportamiento de la variable $\\text{EDAD_PADRE}$?\n",
        "* ¿Cómo se distribuye la variable $\\text{N_EMB}$?\n",
        "* ¿Existe una correlación entre estas variables y cuál es su intensidad\n",
        "\n",
        "Para abordar estas preguntas, se hará uso de  gráficos, medidas descriptivas, pruebas de normalidad y coeficientes de correlación de Pearson, Kendall y Spearman. Los hallazgos e interpretaciones se presentarán mediante una copia guardada en GitHub proveniente de Google Colaboratory, siendo este último el software que se usará para hacer el análisis de los datos y gráficos.\n",
        "\n"
      ]
    },
    {
      "cell_type": "markdown",
      "metadata": {
        "id": "o8BYj-xyEVFj"
      },
      "source": [
        "# **Estadística descriptiva para variables cuantitativas**\n",
        "\n",
        "\n",
        "*   Gráficos para datos univariados cuantitativos\n",
        "*   Determinar las medidas descrpitivas para datos univariados cuantitativos\n",
        "\n"
      ]
    },
    {
      "cell_type": "code",
      "execution_count": 1,
      "metadata": {
        "colab": {
          "base_uri": "https://localhost:8080/",
          "height": 73
        },
        "id": "3nUXxmJDA5T0",
        "outputId": "ceb6db6d-04fc-4109-b6bd-e9299968d692"
      },
      "outputs": [
        {
          "output_type": "display_data",
          "data": {
            "text/plain": [
              "<IPython.core.display.HTML object>"
            ],
            "text/html": [
              "\n",
              "     <input type=\"file\" id=\"files-251bbe3a-6eb1-454b-b4c3-e93a4eff872e\" name=\"files[]\" multiple disabled\n",
              "        style=\"border:none\" />\n",
              "     <output id=\"result-251bbe3a-6eb1-454b-b4c3-e93a4eff872e\">\n",
              "      Upload widget is only available when the cell has been executed in the\n",
              "      current browser session. Please rerun this cell to enable.\n",
              "      </output>\n",
              "      <script>// Copyright 2017 Google LLC\n",
              "//\n",
              "// Licensed under the Apache License, Version 2.0 (the \"License\");\n",
              "// you may not use this file except in compliance with the License.\n",
              "// You may obtain a copy of the License at\n",
              "//\n",
              "//      http://www.apache.org/licenses/LICENSE-2.0\n",
              "//\n",
              "// Unless required by applicable law or agreed to in writing, software\n",
              "// distributed under the License is distributed on an \"AS IS\" BASIS,\n",
              "// WITHOUT WARRANTIES OR CONDITIONS OF ANY KIND, either express or implied.\n",
              "// See the License for the specific language governing permissions and\n",
              "// limitations under the License.\n",
              "\n",
              "/**\n",
              " * @fileoverview Helpers for google.colab Python module.\n",
              " */\n",
              "(function(scope) {\n",
              "function span(text, styleAttributes = {}) {\n",
              "  const element = document.createElement('span');\n",
              "  element.textContent = text;\n",
              "  for (const key of Object.keys(styleAttributes)) {\n",
              "    element.style[key] = styleAttributes[key];\n",
              "  }\n",
              "  return element;\n",
              "}\n",
              "\n",
              "// Max number of bytes which will be uploaded at a time.\n",
              "const MAX_PAYLOAD_SIZE = 100 * 1024;\n",
              "\n",
              "function _uploadFiles(inputId, outputId) {\n",
              "  const steps = uploadFilesStep(inputId, outputId);\n",
              "  const outputElement = document.getElementById(outputId);\n",
              "  // Cache steps on the outputElement to make it available for the next call\n",
              "  // to uploadFilesContinue from Python.\n",
              "  outputElement.steps = steps;\n",
              "\n",
              "  return _uploadFilesContinue(outputId);\n",
              "}\n",
              "\n",
              "// This is roughly an async generator (not supported in the browser yet),\n",
              "// where there are multiple asynchronous steps and the Python side is going\n",
              "// to poll for completion of each step.\n",
              "// This uses a Promise to block the python side on completion of each step,\n",
              "// then passes the result of the previous step as the input to the next step.\n",
              "function _uploadFilesContinue(outputId) {\n",
              "  const outputElement = document.getElementById(outputId);\n",
              "  const steps = outputElement.steps;\n",
              "\n",
              "  const next = steps.next(outputElement.lastPromiseValue);\n",
              "  return Promise.resolve(next.value.promise).then((value) => {\n",
              "    // Cache the last promise value to make it available to the next\n",
              "    // step of the generator.\n",
              "    outputElement.lastPromiseValue = value;\n",
              "    return next.value.response;\n",
              "  });\n",
              "}\n",
              "\n",
              "/**\n",
              " * Generator function which is called between each async step of the upload\n",
              " * process.\n",
              " * @param {string} inputId Element ID of the input file picker element.\n",
              " * @param {string} outputId Element ID of the output display.\n",
              " * @return {!Iterable<!Object>} Iterable of next steps.\n",
              " */\n",
              "function* uploadFilesStep(inputId, outputId) {\n",
              "  const inputElement = document.getElementById(inputId);\n",
              "  inputElement.disabled = false;\n",
              "\n",
              "  const outputElement = document.getElementById(outputId);\n",
              "  outputElement.innerHTML = '';\n",
              "\n",
              "  const pickedPromise = new Promise((resolve) => {\n",
              "    inputElement.addEventListener('change', (e) => {\n",
              "      resolve(e.target.files);\n",
              "    });\n",
              "  });\n",
              "\n",
              "  const cancel = document.createElement('button');\n",
              "  inputElement.parentElement.appendChild(cancel);\n",
              "  cancel.textContent = 'Cancel upload';\n",
              "  const cancelPromise = new Promise((resolve) => {\n",
              "    cancel.onclick = () => {\n",
              "      resolve(null);\n",
              "    };\n",
              "  });\n",
              "\n",
              "  // Wait for the user to pick the files.\n",
              "  const files = yield {\n",
              "    promise: Promise.race([pickedPromise, cancelPromise]),\n",
              "    response: {\n",
              "      action: 'starting',\n",
              "    }\n",
              "  };\n",
              "\n",
              "  cancel.remove();\n",
              "\n",
              "  // Disable the input element since further picks are not allowed.\n",
              "  inputElement.disabled = true;\n",
              "\n",
              "  if (!files) {\n",
              "    return {\n",
              "      response: {\n",
              "        action: 'complete',\n",
              "      }\n",
              "    };\n",
              "  }\n",
              "\n",
              "  for (const file of files) {\n",
              "    const li = document.createElement('li');\n",
              "    li.append(span(file.name, {fontWeight: 'bold'}));\n",
              "    li.append(span(\n",
              "        `(${file.type || 'n/a'}) - ${file.size} bytes, ` +\n",
              "        `last modified: ${\n",
              "            file.lastModifiedDate ? file.lastModifiedDate.toLocaleDateString() :\n",
              "                                    'n/a'} - `));\n",
              "    const percent = span('0% done');\n",
              "    li.appendChild(percent);\n",
              "\n",
              "    outputElement.appendChild(li);\n",
              "\n",
              "    const fileDataPromise = new Promise((resolve) => {\n",
              "      const reader = new FileReader();\n",
              "      reader.onload = (e) => {\n",
              "        resolve(e.target.result);\n",
              "      };\n",
              "      reader.readAsArrayBuffer(file);\n",
              "    });\n",
              "    // Wait for the data to be ready.\n",
              "    let fileData = yield {\n",
              "      promise: fileDataPromise,\n",
              "      response: {\n",
              "        action: 'continue',\n",
              "      }\n",
              "    };\n",
              "\n",
              "    // Use a chunked sending to avoid message size limits. See b/62115660.\n",
              "    let position = 0;\n",
              "    do {\n",
              "      const length = Math.min(fileData.byteLength - position, MAX_PAYLOAD_SIZE);\n",
              "      const chunk = new Uint8Array(fileData, position, length);\n",
              "      position += length;\n",
              "\n",
              "      const base64 = btoa(String.fromCharCode.apply(null, chunk));\n",
              "      yield {\n",
              "        response: {\n",
              "          action: 'append',\n",
              "          file: file.name,\n",
              "          data: base64,\n",
              "        },\n",
              "      };\n",
              "\n",
              "      let percentDone = fileData.byteLength === 0 ?\n",
              "          100 :\n",
              "          Math.round((position / fileData.byteLength) * 100);\n",
              "      percent.textContent = `${percentDone}% done`;\n",
              "\n",
              "    } while (position < fileData.byteLength);\n",
              "  }\n",
              "\n",
              "  // All done.\n",
              "  yield {\n",
              "    response: {\n",
              "      action: 'complete',\n",
              "    }\n",
              "  };\n",
              "}\n",
              "\n",
              "scope.google = scope.google || {};\n",
              "scope.google.colab = scope.google.colab || {};\n",
              "scope.google.colab._files = {\n",
              "  _uploadFiles,\n",
              "  _uploadFilesContinue,\n",
              "};\n",
              "})(self);\n",
              "</script> "
            ]
          },
          "metadata": {}
        },
        {
          "output_type": "stream",
          "name": "stdout",
          "text": [
            "Saving asriosgu_nac2020.csv to asriosgu_nac2020 (1).csv\n"
          ]
        }
      ],
      "source": [
        "from google.colab import files # Para cargar archivos en google colab\n",
        "uploaded = files.upload()"
      ]
    },
    {
      "cell_type": "code",
      "execution_count": 3,
      "metadata": {
        "colab": {
          "base_uri": "https://localhost:8080/",
          "height": 224
        },
        "id": "2hfGevpkGsh4",
        "outputId": "8f2aee74-351b-412f-d6ef-4bb7862b9d3f"
      },
      "outputs": [
        {
          "output_type": "execute_result",
          "data": {
            "text/plain": [
              "          COD_MUNIC  AREANAC  SIT_PARTO OTRO_SIT  SEXO  PESO_NAC  TALLA_NAC  \\\n",
              "COD_DPTO                                                                      \n",
              "44              560        3          2      NaN     2         9          9   \n",
              "44              560        3          2      NaN     1         9          9   \n",
              "44              560        3          2      NaN     1         9          9   \n",
              "\n",
              "           ANO  MES  ATEN_PAR  ...  AREA_RES  N_HIJOSV  FECHA_NACM  N_EMB  \\\n",
              "COD_DPTO                       ...                                          \n",
              "44        2020   11         5  ...       3.0         1         NaN      1   \n",
              "44        2020   10         5  ...       3.0         1         NaN      1   \n",
              "44        2020   10         5  ...       3.0         1         NaN      1   \n",
              "\n",
              "          SEG_SOCIAL  IDCLASADMI  EDAD_PADRE  NIV_EDUP  ULTCURPAD  PROFESION  \n",
              "COD_DPTO                                                                      \n",
              "44                 2         2.0          20        99         99          5  \n",
              "44                 2         2.0          20        99         99          5  \n",
              "44                 2         2.0          20        99         99          5  \n",
              "\n",
              "[3 rows x 36 columns]"
            ],
            "text/html": [
              "\n",
              "  <div id=\"df-c4249400-1c51-43b4-9669-3ef3207a2532\" class=\"colab-df-container\">\n",
              "    <div>\n",
              "<style scoped>\n",
              "    .dataframe tbody tr th:only-of-type {\n",
              "        vertical-align: middle;\n",
              "    }\n",
              "\n",
              "    .dataframe tbody tr th {\n",
              "        vertical-align: top;\n",
              "    }\n",
              "\n",
              "    .dataframe thead th {\n",
              "        text-align: right;\n",
              "    }\n",
              "</style>\n",
              "<table border=\"1\" class=\"dataframe\">\n",
              "  <thead>\n",
              "    <tr style=\"text-align: right;\">\n",
              "      <th></th>\n",
              "      <th>COD_MUNIC</th>\n",
              "      <th>AREANAC</th>\n",
              "      <th>SIT_PARTO</th>\n",
              "      <th>OTRO_SIT</th>\n",
              "      <th>SEXO</th>\n",
              "      <th>PESO_NAC</th>\n",
              "      <th>TALLA_NAC</th>\n",
              "      <th>ANO</th>\n",
              "      <th>MES</th>\n",
              "      <th>ATEN_PAR</th>\n",
              "      <th>...</th>\n",
              "      <th>AREA_RES</th>\n",
              "      <th>N_HIJOSV</th>\n",
              "      <th>FECHA_NACM</th>\n",
              "      <th>N_EMB</th>\n",
              "      <th>SEG_SOCIAL</th>\n",
              "      <th>IDCLASADMI</th>\n",
              "      <th>EDAD_PADRE</th>\n",
              "      <th>NIV_EDUP</th>\n",
              "      <th>ULTCURPAD</th>\n",
              "      <th>PROFESION</th>\n",
              "    </tr>\n",
              "    <tr>\n",
              "      <th>COD_DPTO</th>\n",
              "      <th></th>\n",
              "      <th></th>\n",
              "      <th></th>\n",
              "      <th></th>\n",
              "      <th></th>\n",
              "      <th></th>\n",
              "      <th></th>\n",
              "      <th></th>\n",
              "      <th></th>\n",
              "      <th></th>\n",
              "      <th></th>\n",
              "      <th></th>\n",
              "      <th></th>\n",
              "      <th></th>\n",
              "      <th></th>\n",
              "      <th></th>\n",
              "      <th></th>\n",
              "      <th></th>\n",
              "      <th></th>\n",
              "      <th></th>\n",
              "      <th></th>\n",
              "    </tr>\n",
              "  </thead>\n",
              "  <tbody>\n",
              "    <tr>\n",
              "      <th>44</th>\n",
              "      <td>560</td>\n",
              "      <td>3</td>\n",
              "      <td>2</td>\n",
              "      <td>NaN</td>\n",
              "      <td>2</td>\n",
              "      <td>9</td>\n",
              "      <td>9</td>\n",
              "      <td>2020</td>\n",
              "      <td>11</td>\n",
              "      <td>5</td>\n",
              "      <td>...</td>\n",
              "      <td>3.0</td>\n",
              "      <td>1</td>\n",
              "      <td>NaN</td>\n",
              "      <td>1</td>\n",
              "      <td>2</td>\n",
              "      <td>2.0</td>\n",
              "      <td>20</td>\n",
              "      <td>99</td>\n",
              "      <td>99</td>\n",
              "      <td>5</td>\n",
              "    </tr>\n",
              "    <tr>\n",
              "      <th>44</th>\n",
              "      <td>560</td>\n",
              "      <td>3</td>\n",
              "      <td>2</td>\n",
              "      <td>NaN</td>\n",
              "      <td>1</td>\n",
              "      <td>9</td>\n",
              "      <td>9</td>\n",
              "      <td>2020</td>\n",
              "      <td>10</td>\n",
              "      <td>5</td>\n",
              "      <td>...</td>\n",
              "      <td>3.0</td>\n",
              "      <td>1</td>\n",
              "      <td>NaN</td>\n",
              "      <td>1</td>\n",
              "      <td>2</td>\n",
              "      <td>2.0</td>\n",
              "      <td>20</td>\n",
              "      <td>99</td>\n",
              "      <td>99</td>\n",
              "      <td>5</td>\n",
              "    </tr>\n",
              "    <tr>\n",
              "      <th>44</th>\n",
              "      <td>560</td>\n",
              "      <td>3</td>\n",
              "      <td>2</td>\n",
              "      <td>NaN</td>\n",
              "      <td>1</td>\n",
              "      <td>9</td>\n",
              "      <td>9</td>\n",
              "      <td>2020</td>\n",
              "      <td>10</td>\n",
              "      <td>5</td>\n",
              "      <td>...</td>\n",
              "      <td>3.0</td>\n",
              "      <td>1</td>\n",
              "      <td>NaN</td>\n",
              "      <td>1</td>\n",
              "      <td>2</td>\n",
              "      <td>2.0</td>\n",
              "      <td>20</td>\n",
              "      <td>99</td>\n",
              "      <td>99</td>\n",
              "      <td>5</td>\n",
              "    </tr>\n",
              "  </tbody>\n",
              "</table>\n",
              "<p>3 rows × 36 columns</p>\n",
              "</div>\n",
              "    <div class=\"colab-df-buttons\">\n",
              "\n",
              "  <div class=\"colab-df-container\">\n",
              "    <button class=\"colab-df-convert\" onclick=\"convertToInteractive('df-c4249400-1c51-43b4-9669-3ef3207a2532')\"\n",
              "            title=\"Convert this dataframe to an interactive table.\"\n",
              "            style=\"display:none;\">\n",
              "\n",
              "  <svg xmlns=\"http://www.w3.org/2000/svg\" height=\"24px\" viewBox=\"0 -960 960 960\">\n",
              "    <path d=\"M120-120v-720h720v720H120Zm60-500h600v-160H180v160Zm220 220h160v-160H400v160Zm0 220h160v-160H400v160ZM180-400h160v-160H180v160Zm440 0h160v-160H620v160ZM180-180h160v-160H180v160Zm440 0h160v-160H620v160Z\"/>\n",
              "  </svg>\n",
              "    </button>\n",
              "\n",
              "  <style>\n",
              "    .colab-df-container {\n",
              "      display:flex;\n",
              "      gap: 12px;\n",
              "    }\n",
              "\n",
              "    .colab-df-convert {\n",
              "      background-color: #E8F0FE;\n",
              "      border: none;\n",
              "      border-radius: 50%;\n",
              "      cursor: pointer;\n",
              "      display: none;\n",
              "      fill: #1967D2;\n",
              "      height: 32px;\n",
              "      padding: 0 0 0 0;\n",
              "      width: 32px;\n",
              "    }\n",
              "\n",
              "    .colab-df-convert:hover {\n",
              "      background-color: #E2EBFA;\n",
              "      box-shadow: 0px 1px 2px rgba(60, 64, 67, 0.3), 0px 1px 3px 1px rgba(60, 64, 67, 0.15);\n",
              "      fill: #174EA6;\n",
              "    }\n",
              "\n",
              "    .colab-df-buttons div {\n",
              "      margin-bottom: 4px;\n",
              "    }\n",
              "\n",
              "    [theme=dark] .colab-df-convert {\n",
              "      background-color: #3B4455;\n",
              "      fill: #D2E3FC;\n",
              "    }\n",
              "\n",
              "    [theme=dark] .colab-df-convert:hover {\n",
              "      background-color: #434B5C;\n",
              "      box-shadow: 0px 1px 3px 1px rgba(0, 0, 0, 0.15);\n",
              "      filter: drop-shadow(0px 1px 2px rgba(0, 0, 0, 0.3));\n",
              "      fill: #FFFFFF;\n",
              "    }\n",
              "  </style>\n",
              "\n",
              "    <script>\n",
              "      const buttonEl =\n",
              "        document.querySelector('#df-c4249400-1c51-43b4-9669-3ef3207a2532 button.colab-df-convert');\n",
              "      buttonEl.style.display =\n",
              "        google.colab.kernel.accessAllowed ? 'block' : 'none';\n",
              "\n",
              "      async function convertToInteractive(key) {\n",
              "        const element = document.querySelector('#df-c4249400-1c51-43b4-9669-3ef3207a2532');\n",
              "        const dataTable =\n",
              "          await google.colab.kernel.invokeFunction('convertToInteractive',\n",
              "                                                    [key], {});\n",
              "        if (!dataTable) return;\n",
              "\n",
              "        const docLinkHtml = 'Like what you see? Visit the ' +\n",
              "          '<a target=\"_blank\" href=https://colab.research.google.com/notebooks/data_table.ipynb>data table notebook</a>'\n",
              "          + ' to learn more about interactive tables.';\n",
              "        element.innerHTML = '';\n",
              "        dataTable['output_type'] = 'display_data';\n",
              "        await google.colab.output.renderOutput(dataTable, element);\n",
              "        const docLink = document.createElement('div');\n",
              "        docLink.innerHTML = docLinkHtml;\n",
              "        element.appendChild(docLink);\n",
              "      }\n",
              "    </script>\n",
              "  </div>\n",
              "\n",
              "\n",
              "<div id=\"df-e3f71fc5-e73a-409c-8db5-3baacf3a9a59\">\n",
              "  <button class=\"colab-df-quickchart\" onclick=\"quickchart('df-e3f71fc5-e73a-409c-8db5-3baacf3a9a59')\"\n",
              "            title=\"Suggest charts\"\n",
              "            style=\"display:none;\">\n",
              "\n",
              "<svg xmlns=\"http://www.w3.org/2000/svg\" height=\"24px\"viewBox=\"0 0 24 24\"\n",
              "     width=\"24px\">\n",
              "    <g>\n",
              "        <path d=\"M19 3H5c-1.1 0-2 .9-2 2v14c0 1.1.9 2 2 2h14c1.1 0 2-.9 2-2V5c0-1.1-.9-2-2-2zM9 17H7v-7h2v7zm4 0h-2V7h2v10zm4 0h-2v-4h2v4z\"/>\n",
              "    </g>\n",
              "</svg>\n",
              "  </button>\n",
              "\n",
              "<style>\n",
              "  .colab-df-quickchart {\n",
              "      --bg-color: #E8F0FE;\n",
              "      --fill-color: #1967D2;\n",
              "      --hover-bg-color: #E2EBFA;\n",
              "      --hover-fill-color: #174EA6;\n",
              "      --disabled-fill-color: #AAA;\n",
              "      --disabled-bg-color: #DDD;\n",
              "  }\n",
              "\n",
              "  [theme=dark] .colab-df-quickchart {\n",
              "      --bg-color: #3B4455;\n",
              "      --fill-color: #D2E3FC;\n",
              "      --hover-bg-color: #434B5C;\n",
              "      --hover-fill-color: #FFFFFF;\n",
              "      --disabled-bg-color: #3B4455;\n",
              "      --disabled-fill-color: #666;\n",
              "  }\n",
              "\n",
              "  .colab-df-quickchart {\n",
              "    background-color: var(--bg-color);\n",
              "    border: none;\n",
              "    border-radius: 50%;\n",
              "    cursor: pointer;\n",
              "    display: none;\n",
              "    fill: var(--fill-color);\n",
              "    height: 32px;\n",
              "    padding: 0;\n",
              "    width: 32px;\n",
              "  }\n",
              "\n",
              "  .colab-df-quickchart:hover {\n",
              "    background-color: var(--hover-bg-color);\n",
              "    box-shadow: 0 1px 2px rgba(60, 64, 67, 0.3), 0 1px 3px 1px rgba(60, 64, 67, 0.15);\n",
              "    fill: var(--button-hover-fill-color);\n",
              "  }\n",
              "\n",
              "  .colab-df-quickchart-complete:disabled,\n",
              "  .colab-df-quickchart-complete:disabled:hover {\n",
              "    background-color: var(--disabled-bg-color);\n",
              "    fill: var(--disabled-fill-color);\n",
              "    box-shadow: none;\n",
              "  }\n",
              "\n",
              "  .colab-df-spinner {\n",
              "    border: 2px solid var(--fill-color);\n",
              "    border-color: transparent;\n",
              "    border-bottom-color: var(--fill-color);\n",
              "    animation:\n",
              "      spin 1s steps(1) infinite;\n",
              "  }\n",
              "\n",
              "  @keyframes spin {\n",
              "    0% {\n",
              "      border-color: transparent;\n",
              "      border-bottom-color: var(--fill-color);\n",
              "      border-left-color: var(--fill-color);\n",
              "    }\n",
              "    20% {\n",
              "      border-color: transparent;\n",
              "      border-left-color: var(--fill-color);\n",
              "      border-top-color: var(--fill-color);\n",
              "    }\n",
              "    30% {\n",
              "      border-color: transparent;\n",
              "      border-left-color: var(--fill-color);\n",
              "      border-top-color: var(--fill-color);\n",
              "      border-right-color: var(--fill-color);\n",
              "    }\n",
              "    40% {\n",
              "      border-color: transparent;\n",
              "      border-right-color: var(--fill-color);\n",
              "      border-top-color: var(--fill-color);\n",
              "    }\n",
              "    60% {\n",
              "      border-color: transparent;\n",
              "      border-right-color: var(--fill-color);\n",
              "    }\n",
              "    80% {\n",
              "      border-color: transparent;\n",
              "      border-right-color: var(--fill-color);\n",
              "      border-bottom-color: var(--fill-color);\n",
              "    }\n",
              "    90% {\n",
              "      border-color: transparent;\n",
              "      border-bottom-color: var(--fill-color);\n",
              "    }\n",
              "  }\n",
              "</style>\n",
              "\n",
              "  <script>\n",
              "    async function quickchart(key) {\n",
              "      const quickchartButtonEl =\n",
              "        document.querySelector('#' + key + ' button');\n",
              "      quickchartButtonEl.disabled = true;  // To prevent multiple clicks.\n",
              "      quickchartButtonEl.classList.add('colab-df-spinner');\n",
              "      try {\n",
              "        const charts = await google.colab.kernel.invokeFunction(\n",
              "            'suggestCharts', [key], {});\n",
              "      } catch (error) {\n",
              "        console.error('Error during call to suggestCharts:', error);\n",
              "      }\n",
              "      quickchartButtonEl.classList.remove('colab-df-spinner');\n",
              "      quickchartButtonEl.classList.add('colab-df-quickchart-complete');\n",
              "    }\n",
              "    (() => {\n",
              "      let quickchartButtonEl =\n",
              "        document.querySelector('#df-e3f71fc5-e73a-409c-8db5-3baacf3a9a59 button');\n",
              "      quickchartButtonEl.style.display =\n",
              "        google.colab.kernel.accessAllowed ? 'block' : 'none';\n",
              "    })();\n",
              "  </script>\n",
              "</div>\n",
              "\n",
              "    </div>\n",
              "  </div>\n"
            ],
            "application/vnd.google.colaboratory.intrinsic+json": {
              "type": "dataframe",
              "variable_name": "tabla"
            }
          },
          "metadata": {},
          "execution_count": 3
        }
      ],
      "source": [
        "import pandas as pd\n",
        "import io\n",
        "io_csv = io.BytesIO(uploaded['asriosgu_nac2020 (1).csv'])\n",
        "tabla = pd.read_csv(io_csv, sep = \",\", index_col=0, encoding='latin-1')\n",
        "tabla.head(3)"
      ]
    },
    {
      "cell_type": "code",
      "execution_count": 4,
      "metadata": {
        "colab": {
          "base_uri": "https://localhost:8080/",
          "height": 175
        },
        "id": "ZhqmsDkPA-Cf",
        "outputId": "f920f64d-a9c0-4e39-fae0-1397d033088f"
      },
      "outputs": [
        {
          "output_type": "execute_result",
          "data": {
            "text/plain": [
              "          EDAD_PADRE  EDAD_MADRE  N_EMB\n",
              "COD_DPTO                               \n",
              "44                20           4      1\n",
              "44                20           4      1\n",
              "44                20           5      1"
            ],
            "text/html": [
              "\n",
              "  <div id=\"df-17e1dbbe-9270-4c0c-8cae-58bff422d133\" class=\"colab-df-container\">\n",
              "    <div>\n",
              "<style scoped>\n",
              "    .dataframe tbody tr th:only-of-type {\n",
              "        vertical-align: middle;\n",
              "    }\n",
              "\n",
              "    .dataframe tbody tr th {\n",
              "        vertical-align: top;\n",
              "    }\n",
              "\n",
              "    .dataframe thead th {\n",
              "        text-align: right;\n",
              "    }\n",
              "</style>\n",
              "<table border=\"1\" class=\"dataframe\">\n",
              "  <thead>\n",
              "    <tr style=\"text-align: right;\">\n",
              "      <th></th>\n",
              "      <th>EDAD_PADRE</th>\n",
              "      <th>EDAD_MADRE</th>\n",
              "      <th>N_EMB</th>\n",
              "    </tr>\n",
              "    <tr>\n",
              "      <th>COD_DPTO</th>\n",
              "      <th></th>\n",
              "      <th></th>\n",
              "      <th></th>\n",
              "    </tr>\n",
              "  </thead>\n",
              "  <tbody>\n",
              "    <tr>\n",
              "      <th>44</th>\n",
              "      <td>20</td>\n",
              "      <td>4</td>\n",
              "      <td>1</td>\n",
              "    </tr>\n",
              "    <tr>\n",
              "      <th>44</th>\n",
              "      <td>20</td>\n",
              "      <td>4</td>\n",
              "      <td>1</td>\n",
              "    </tr>\n",
              "    <tr>\n",
              "      <th>44</th>\n",
              "      <td>20</td>\n",
              "      <td>5</td>\n",
              "      <td>1</td>\n",
              "    </tr>\n",
              "  </tbody>\n",
              "</table>\n",
              "</div>\n",
              "    <div class=\"colab-df-buttons\">\n",
              "\n",
              "  <div class=\"colab-df-container\">\n",
              "    <button class=\"colab-df-convert\" onclick=\"convertToInteractive('df-17e1dbbe-9270-4c0c-8cae-58bff422d133')\"\n",
              "            title=\"Convert this dataframe to an interactive table.\"\n",
              "            style=\"display:none;\">\n",
              "\n",
              "  <svg xmlns=\"http://www.w3.org/2000/svg\" height=\"24px\" viewBox=\"0 -960 960 960\">\n",
              "    <path d=\"M120-120v-720h720v720H120Zm60-500h600v-160H180v160Zm220 220h160v-160H400v160Zm0 220h160v-160H400v160ZM180-400h160v-160H180v160Zm440 0h160v-160H620v160ZM180-180h160v-160H180v160Zm440 0h160v-160H620v160Z\"/>\n",
              "  </svg>\n",
              "    </button>\n",
              "\n",
              "  <style>\n",
              "    .colab-df-container {\n",
              "      display:flex;\n",
              "      gap: 12px;\n",
              "    }\n",
              "\n",
              "    .colab-df-convert {\n",
              "      background-color: #E8F0FE;\n",
              "      border: none;\n",
              "      border-radius: 50%;\n",
              "      cursor: pointer;\n",
              "      display: none;\n",
              "      fill: #1967D2;\n",
              "      height: 32px;\n",
              "      padding: 0 0 0 0;\n",
              "      width: 32px;\n",
              "    }\n",
              "\n",
              "    .colab-df-convert:hover {\n",
              "      background-color: #E2EBFA;\n",
              "      box-shadow: 0px 1px 2px rgba(60, 64, 67, 0.3), 0px 1px 3px 1px rgba(60, 64, 67, 0.15);\n",
              "      fill: #174EA6;\n",
              "    }\n",
              "\n",
              "    .colab-df-buttons div {\n",
              "      margin-bottom: 4px;\n",
              "    }\n",
              "\n",
              "    [theme=dark] .colab-df-convert {\n",
              "      background-color: #3B4455;\n",
              "      fill: #D2E3FC;\n",
              "    }\n",
              "\n",
              "    [theme=dark] .colab-df-convert:hover {\n",
              "      background-color: #434B5C;\n",
              "      box-shadow: 0px 1px 3px 1px rgba(0, 0, 0, 0.15);\n",
              "      filter: drop-shadow(0px 1px 2px rgba(0, 0, 0, 0.3));\n",
              "      fill: #FFFFFF;\n",
              "    }\n",
              "  </style>\n",
              "\n",
              "    <script>\n",
              "      const buttonEl =\n",
              "        document.querySelector('#df-17e1dbbe-9270-4c0c-8cae-58bff422d133 button.colab-df-convert');\n",
              "      buttonEl.style.display =\n",
              "        google.colab.kernel.accessAllowed ? 'block' : 'none';\n",
              "\n",
              "      async function convertToInteractive(key) {\n",
              "        const element = document.querySelector('#df-17e1dbbe-9270-4c0c-8cae-58bff422d133');\n",
              "        const dataTable =\n",
              "          await google.colab.kernel.invokeFunction('convertToInteractive',\n",
              "                                                    [key], {});\n",
              "        if (!dataTable) return;\n",
              "\n",
              "        const docLinkHtml = 'Like what you see? Visit the ' +\n",
              "          '<a target=\"_blank\" href=https://colab.research.google.com/notebooks/data_table.ipynb>data table notebook</a>'\n",
              "          + ' to learn more about interactive tables.';\n",
              "        element.innerHTML = '';\n",
              "        dataTable['output_type'] = 'display_data';\n",
              "        await google.colab.output.renderOutput(dataTable, element);\n",
              "        const docLink = document.createElement('div');\n",
              "        docLink.innerHTML = docLinkHtml;\n",
              "        element.appendChild(docLink);\n",
              "      }\n",
              "    </script>\n",
              "  </div>\n",
              "\n",
              "\n",
              "<div id=\"df-c30e1277-2d53-4e05-9ad9-fc1998a40bee\">\n",
              "  <button class=\"colab-df-quickchart\" onclick=\"quickchart('df-c30e1277-2d53-4e05-9ad9-fc1998a40bee')\"\n",
              "            title=\"Suggest charts\"\n",
              "            style=\"display:none;\">\n",
              "\n",
              "<svg xmlns=\"http://www.w3.org/2000/svg\" height=\"24px\"viewBox=\"0 0 24 24\"\n",
              "     width=\"24px\">\n",
              "    <g>\n",
              "        <path d=\"M19 3H5c-1.1 0-2 .9-2 2v14c0 1.1.9 2 2 2h14c1.1 0 2-.9 2-2V5c0-1.1-.9-2-2-2zM9 17H7v-7h2v7zm4 0h-2V7h2v10zm4 0h-2v-4h2v4z\"/>\n",
              "    </g>\n",
              "</svg>\n",
              "  </button>\n",
              "\n",
              "<style>\n",
              "  .colab-df-quickchart {\n",
              "      --bg-color: #E8F0FE;\n",
              "      --fill-color: #1967D2;\n",
              "      --hover-bg-color: #E2EBFA;\n",
              "      --hover-fill-color: #174EA6;\n",
              "      --disabled-fill-color: #AAA;\n",
              "      --disabled-bg-color: #DDD;\n",
              "  }\n",
              "\n",
              "  [theme=dark] .colab-df-quickchart {\n",
              "      --bg-color: #3B4455;\n",
              "      --fill-color: #D2E3FC;\n",
              "      --hover-bg-color: #434B5C;\n",
              "      --hover-fill-color: #FFFFFF;\n",
              "      --disabled-bg-color: #3B4455;\n",
              "      --disabled-fill-color: #666;\n",
              "  }\n",
              "\n",
              "  .colab-df-quickchart {\n",
              "    background-color: var(--bg-color);\n",
              "    border: none;\n",
              "    border-radius: 50%;\n",
              "    cursor: pointer;\n",
              "    display: none;\n",
              "    fill: var(--fill-color);\n",
              "    height: 32px;\n",
              "    padding: 0;\n",
              "    width: 32px;\n",
              "  }\n",
              "\n",
              "  .colab-df-quickchart:hover {\n",
              "    background-color: var(--hover-bg-color);\n",
              "    box-shadow: 0 1px 2px rgba(60, 64, 67, 0.3), 0 1px 3px 1px rgba(60, 64, 67, 0.15);\n",
              "    fill: var(--button-hover-fill-color);\n",
              "  }\n",
              "\n",
              "  .colab-df-quickchart-complete:disabled,\n",
              "  .colab-df-quickchart-complete:disabled:hover {\n",
              "    background-color: var(--disabled-bg-color);\n",
              "    fill: var(--disabled-fill-color);\n",
              "    box-shadow: none;\n",
              "  }\n",
              "\n",
              "  .colab-df-spinner {\n",
              "    border: 2px solid var(--fill-color);\n",
              "    border-color: transparent;\n",
              "    border-bottom-color: var(--fill-color);\n",
              "    animation:\n",
              "      spin 1s steps(1) infinite;\n",
              "  }\n",
              "\n",
              "  @keyframes spin {\n",
              "    0% {\n",
              "      border-color: transparent;\n",
              "      border-bottom-color: var(--fill-color);\n",
              "      border-left-color: var(--fill-color);\n",
              "    }\n",
              "    20% {\n",
              "      border-color: transparent;\n",
              "      border-left-color: var(--fill-color);\n",
              "      border-top-color: var(--fill-color);\n",
              "    }\n",
              "    30% {\n",
              "      border-color: transparent;\n",
              "      border-left-color: var(--fill-color);\n",
              "      border-top-color: var(--fill-color);\n",
              "      border-right-color: var(--fill-color);\n",
              "    }\n",
              "    40% {\n",
              "      border-color: transparent;\n",
              "      border-right-color: var(--fill-color);\n",
              "      border-top-color: var(--fill-color);\n",
              "    }\n",
              "    60% {\n",
              "      border-color: transparent;\n",
              "      border-right-color: var(--fill-color);\n",
              "    }\n",
              "    80% {\n",
              "      border-color: transparent;\n",
              "      border-right-color: var(--fill-color);\n",
              "      border-bottom-color: var(--fill-color);\n",
              "    }\n",
              "    90% {\n",
              "      border-color: transparent;\n",
              "      border-bottom-color: var(--fill-color);\n",
              "    }\n",
              "  }\n",
              "</style>\n",
              "\n",
              "  <script>\n",
              "    async function quickchart(key) {\n",
              "      const quickchartButtonEl =\n",
              "        document.querySelector('#' + key + ' button');\n",
              "      quickchartButtonEl.disabled = true;  // To prevent multiple clicks.\n",
              "      quickchartButtonEl.classList.add('colab-df-spinner');\n",
              "      try {\n",
              "        const charts = await google.colab.kernel.invokeFunction(\n",
              "            'suggestCharts', [key], {});\n",
              "      } catch (error) {\n",
              "        console.error('Error during call to suggestCharts:', error);\n",
              "      }\n",
              "      quickchartButtonEl.classList.remove('colab-df-spinner');\n",
              "      quickchartButtonEl.classList.add('colab-df-quickchart-complete');\n",
              "    }\n",
              "    (() => {\n",
              "      let quickchartButtonEl =\n",
              "        document.querySelector('#df-c30e1277-2d53-4e05-9ad9-fc1998a40bee button');\n",
              "      quickchartButtonEl.style.display =\n",
              "        google.colab.kernel.accessAllowed ? 'block' : 'none';\n",
              "    })();\n",
              "  </script>\n",
              "</div>\n",
              "\n",
              "    </div>\n",
              "  </div>\n"
            ],
            "application/vnd.google.colaboratory.intrinsic+json": {
              "type": "dataframe",
              "variable_name": "df"
            }
          },
          "metadata": {},
          "execution_count": 4
        }
      ],
      "source": [
        "df = tabla[[\"EDAD_PADRE\", \"EDAD_MADRE\", \"N_EMB\"]]\n",
        "df.head(3)"
      ]
    },
    {
      "cell_type": "code",
      "execution_count": 5,
      "metadata": {
        "colab": {
          "base_uri": "https://localhost:8080/",
          "height": 472
        },
        "id": "dt8eAxHEHWLw",
        "outputId": "6b3ee072-6087-40db-8a13-67a25522fcf2"
      },
      "outputs": [
        {
          "output_type": "display_data",
          "data": {
            "text/plain": [
              "<Figure size 640x480 with 1 Axes>"
            ],
            "image/png": "[encoded data removed]"
          },
          "metadata": {}
        }
      ],
      "source": [
        "import matplotlib.pyplot as plot\n",
        "intervalos = range(min(df.EDAD_PADRE), max(df.EDAD_PADRE) + 1, 5)\n",
        "plot.hist(df.EDAD_PADRE, bins=intervalos, color='blue', rwidth=0.85)\n",
        "plot.title('Histograma de la edad de un padre')\n",
        "plot.xlabel('Edad (años)')\n",
        "plot.ylabel('Frecuencia')\n",
        "plot.xticks(intervalos)\n",
        "plot.show()"
      ]
    },
    {
      "cell_type": "code",
      "execution_count": 6,
      "metadata": {
        "colab": {
          "base_uri": "https://localhost:8080/",
          "height": 238
        },
        "id": "WW0PNIq3Ha7o",
        "outputId": "66666fd3-9438-4ceb-a64a-eb8a3ead96e9"
      },
      "outputs": [
        {
          "output_type": "execute_result",
          "data": {
            "text/plain": [
              "          EDAD_PADRE  EDAD_MADRE  N_EMB\n",
              "COD_DPTO                               \n",
              "44                20           4      1\n",
              "44                20           4      1\n",
              "44                20           5      1\n",
              "44                20           5      1\n",
              "44                20           3      1"
            ],
            "text/html": [
              "\n",
              "  <div id=\"df-9efbc1dc-6f53-4cb4-bfd6-62b3bd4bfd61\" class=\"colab-df-container\">\n",
              "    <div>\n",
              "<style scoped>\n",
              "    .dataframe tbody tr th:only-of-type {\n",
              "        vertical-align: middle;\n",
              "    }\n",
              "\n",
              "    .dataframe tbody tr th {\n",
              "        vertical-align: top;\n",
              "    }\n",
              "\n",
              "    .dataframe thead th {\n",
              "        text-align: right;\n",
              "    }\n",
              "</style>\n",
              "<table border=\"1\" class=\"dataframe\">\n",
              "  <thead>\n",
              "    <tr style=\"text-align: right;\">\n",
              "      <th></th>\n",
              "      <th>EDAD_PADRE</th>\n",
              "      <th>EDAD_MADRE</th>\n",
              "      <th>N_EMB</th>\n",
              "    </tr>\n",
              "    <tr>\n",
              "      <th>COD_DPTO</th>\n",
              "      <th></th>\n",
              "      <th></th>\n",
              "      <th></th>\n",
              "    </tr>\n",
              "  </thead>\n",
              "  <tbody>\n",
              "    <tr>\n",
              "      <th>44</th>\n",
              "      <td>20</td>\n",
              "      <td>4</td>\n",
              "      <td>1</td>\n",
              "    </tr>\n",
              "    <tr>\n",
              "      <th>44</th>\n",
              "      <td>20</td>\n",
              "      <td>4</td>\n",
              "      <td>1</td>\n",
              "    </tr>\n",
              "    <tr>\n",
              "      <th>44</th>\n",
              "      <td>20</td>\n",
              "      <td>5</td>\n",
              "      <td>1</td>\n",
              "    </tr>\n",
              "    <tr>\n",
              "      <th>44</th>\n",
              "      <td>20</td>\n",
              "      <td>5</td>\n",
              "      <td>1</td>\n",
              "    </tr>\n",
              "    <tr>\n",
              "      <th>44</th>\n",
              "      <td>20</td>\n",
              "      <td>3</td>\n",
              "      <td>1</td>\n",
              "    </tr>\n",
              "  </tbody>\n",
              "</table>\n",
              "</div>\n",
              "    <div class=\"colab-df-buttons\">\n",
              "\n",
              "  <div class=\"colab-df-container\">\n",
              "    <button class=\"colab-df-convert\" onclick=\"convertToInteractive('df-9efbc1dc-6f53-4cb4-bfd6-62b3bd4bfd61')\"\n",
              "            title=\"Convert this dataframe to an interactive table.\"\n",
              "            style=\"display:none;\">\n",
              "\n",
              "  <svg xmlns=\"http://www.w3.org/2000/svg\" height=\"24px\" viewBox=\"0 -960 960 960\">\n",
              "    <path d=\"M120-120v-720h720v720H120Zm60-500h600v-160H180v160Zm220 220h160v-160H400v160Zm0 220h160v-160H400v160ZM180-400h160v-160H180v160Zm440 0h160v-160H620v160ZM180-180h160v-160H180v160Zm440 0h160v-160H620v160Z\"/>\n",
              "  </svg>\n",
              "    </button>\n",
              "\n",
              "  <style>\n",
              "    .colab-df-container {\n",
              "      display:flex;\n",
              "      gap: 12px;\n",
              "    }\n",
              "\n",
              "    .colab-df-convert {\n",
              "      background-color: #E8F0FE;\n",
              "      border: none;\n",
              "      border-radius: 50%;\n",
              "      cursor: pointer;\n",
              "      display: none;\n",
              "      fill: #1967D2;\n",
              "      height: 32px;\n",
              "      padding: 0 0 0 0;\n",
              "      width: 32px;\n",
              "    }\n",
              "\n",
              "    .colab-df-convert:hover {\n",
              "      background-color: #E2EBFA;\n",
              "      box-shadow: 0px 1px 2px rgba(60, 64, 67, 0.3), 0px 1px 3px 1px rgba(60, 64, 67, 0.15);\n",
              "      fill: #174EA6;\n",
              "    }\n",
              "\n",
              "    .colab-df-buttons div {\n",
              "      margin-bottom: 4px;\n",
              "    }\n",
              "\n",
              "    [theme=dark] .colab-df-convert {\n",
              "      background-color: #3B4455;\n",
              "      fill: #D2E3FC;\n",
              "    }\n",
              "\n",
              "    [theme=dark] .colab-df-convert:hover {\n",
              "      background-color: #434B5C;\n",
              "      box-shadow: 0px 1px 3px 1px rgba(0, 0, 0, 0.15);\n",
              "      filter: drop-shadow(0px 1px 2px rgba(0, 0, 0, 0.3));\n",
              "      fill: #FFFFFF;\n",
              "    }\n",
              "  </style>\n",
              "\n",
              "    <script>\n",
              "      const buttonEl =\n",
              "        document.querySelector('#df-9efbc1dc-6f53-4cb4-bfd6-62b3bd4bfd61 button.colab-df-convert');\n",
              "      buttonEl.style.display =\n",
              "        google.colab.kernel.accessAllowed ? 'block' : 'none';\n",
              "\n",
              "      async function convertToInteractive(key) {\n",
              "        const element = document.querySelector('#df-9efbc1dc-6f53-4cb4-bfd6-62b3bd4bfd61');\n",
              "        const dataTable =\n",
              "          await google.colab.kernel.invokeFunction('convertToInteractive',\n",
              "                                                    [key], {});\n",
              "        if (!dataTable) return;\n",
              "\n",
              "        const docLinkHtml = 'Like what you see? Visit the ' +\n",
              "          '<a target=\"_blank\" href=https://colab.research.google.com/notebooks/data_table.ipynb>data table notebook</a>'\n",
              "          + ' to learn more about interactive tables.';\n",
              "        element.innerHTML = '';\n",
              "        dataTable['output_type'] = 'display_data';\n",
              "        await google.colab.output.renderOutput(dataTable, element);\n",
              "        const docLink = document.createElement('div');\n",
              "        docLink.innerHTML = docLinkHtml;\n",
              "        element.appendChild(docLink);\n",
              "      }\n",
              "    </script>\n",
              "  </div>\n",
              "\n",
              "\n",
              "<div id=\"df-ecd2863f-c91a-4ce7-bb04-e1b5bd998677\">\n",
              "  <button class=\"colab-df-quickchart\" onclick=\"quickchart('df-ecd2863f-c91a-4ce7-bb04-e1b5bd998677')\"\n",
              "            title=\"Suggest charts\"\n",
              "            style=\"display:none;\">\n",
              "\n",
              "<svg xmlns=\"http://www.w3.org/2000/svg\" height=\"24px\"viewBox=\"0 0 24 24\"\n",
              "     width=\"24px\">\n",
              "    <g>\n",
              "        <path d=\"M19 3H5c-1.1 0-2 .9-2 2v14c0 1.1.9 2 2 2h14c1.1 0 2-.9 2-2V5c0-1.1-.9-2-2-2zM9 17H7v-7h2v7zm4 0h-2V7h2v10zm4 0h-2v-4h2v4z\"/>\n",
              "    </g>\n",
              "</svg>\n",
              "  </button>\n",
              "\n",
              "<style>\n",
              "  .colab-df-quickchart {\n",
              "      --bg-color: #E8F0FE;\n",
              "      --fill-color: #1967D2;\n",
              "      --hover-bg-color: #E2EBFA;\n",
              "      --hover-fill-color: #174EA6;\n",
              "      --disabled-fill-color: #AAA;\n",
              "      --disabled-bg-color: #DDD;\n",
              "  }\n",
              "\n",
              "  [theme=dark] .colab-df-quickchart {\n",
              "      --bg-color: #3B4455;\n",
              "      --fill-color: #D2E3FC;\n",
              "      --hover-bg-color: #434B5C;\n",
              "      --hover-fill-color: #FFFFFF;\n",
              "      --disabled-bg-color: #3B4455;\n",
              "      --disabled-fill-color: #666;\n",
              "  }\n",
              "\n",
              "  .colab-df-quickchart {\n",
              "    background-color: var(--bg-color);\n",
              "    border: none;\n",
              "    border-radius: 50%;\n",
              "    cursor: pointer;\n",
              "    display: none;\n",
              "    fill: var(--fill-color);\n",
              "    height: 32px;\n",
              "    padding: 0;\n",
              "    width: 32px;\n",
              "  }\n",
              "\n",
              "  .colab-df-quickchart:hover {\n",
              "    background-color: var(--hover-bg-color);\n",
              "    box-shadow: 0 1px 2px rgba(60, 64, 67, 0.3), 0 1px 3px 1px rgba(60, 64, 67, 0.15);\n",
              "    fill: var(--button-hover-fill-color);\n",
              "  }\n",
              "\n",
              "  .colab-df-quickchart-complete:disabled,\n",
              "  .colab-df-quickchart-complete:disabled:hover {\n",
              "    background-color: var(--disabled-bg-color);\n",
              "    fill: var(--disabled-fill-color);\n",
              "    box-shadow: none;\n",
              "  }\n",
              "\n",
              "  .colab-df-spinner {\n",
              "    border: 2px solid var(--fill-color);\n",
              "    border-color: transparent;\n",
              "    border-bottom-color: var(--fill-color);\n",
              "    animation:\n",
              "      spin 1s steps(1) infinite;\n",
              "  }\n",
              "\n",
              "  @keyframes spin {\n",
              "    0% {\n",
              "      border-color: transparent;\n",
              "      border-bottom-color: var(--fill-color);\n",
              "      border-left-color: var(--fill-color);\n",
              "    }\n",
              "    20% {\n",
              "      border-color: transparent;\n",
              "      border-left-color: var(--fill-color);\n",
              "      border-top-color: var(--fill-color);\n",
              "    }\n",
              "    30% {\n",
              "      border-color: transparent;\n",
              "      border-left-color: var(--fill-color);\n",
              "      border-top-color: var(--fill-color);\n",
              "      border-right-color: var(--fill-color);\n",
              "    }\n",
              "    40% {\n",
              "      border-color: transparent;\n",
              "      border-right-color: var(--fill-color);\n",
              "      border-top-color: var(--fill-color);\n",
              "    }\n",
              "    60% {\n",
              "      border-color: transparent;\n",
              "      border-right-color: var(--fill-color);\n",
              "    }\n",
              "    80% {\n",
              "      border-color: transparent;\n",
              "      border-right-color: var(--fill-color);\n",
              "      border-bottom-color: var(--fill-color);\n",
              "    }\n",
              "    90% {\n",
              "      border-color: transparent;\n",
              "      border-bottom-color: var(--fill-color);\n",
              "    }\n",
              "  }\n",
              "</style>\n",
              "\n",
              "  <script>\n",
              "    async function quickchart(key) {\n",
              "      const quickchartButtonEl =\n",
              "        document.querySelector('#' + key + ' button');\n",
              "      quickchartButtonEl.disabled = true;  // To prevent multiple clicks.\n",
              "      quickchartButtonEl.classList.add('colab-df-spinner');\n",
              "      try {\n",
              "        const charts = await google.colab.kernel.invokeFunction(\n",
              "            'suggestCharts', [key], {});\n",
              "      } catch (error) {\n",
              "        console.error('Error during call to suggestCharts:', error);\n",
              "      }\n",
              "      quickchartButtonEl.classList.remove('colab-df-spinner');\n",
              "      quickchartButtonEl.classList.add('colab-df-quickchart-complete');\n",
              "    }\n",
              "    (() => {\n",
              "      let quickchartButtonEl =\n",
              "        document.querySelector('#df-ecd2863f-c91a-4ce7-bb04-e1b5bd998677 button');\n",
              "      quickchartButtonEl.style.display =\n",
              "        google.colab.kernel.accessAllowed ? 'block' : 'none';\n",
              "    })();\n",
              "  </script>\n",
              "</div>\n",
              "\n",
              "    </div>\n",
              "  </div>\n"
            ],
            "application/vnd.google.colaboratory.intrinsic+json": {
              "type": "dataframe",
              "variable_name": "df1"
            }
          },
          "metadata": {},
          "execution_count": 6
        }
      ],
      "source": [
        "df1 = df[(df.EDAD_PADRE < 120) & (df.EDAD_MADRE != 99) & (df.N_EMB != 99)]\n",
        "df1.head(5)"
      ]
    },
    {
      "cell_type": "code",
      "execution_count": 7,
      "metadata": {
        "colab": {
          "base_uri": "https://localhost:8080/",
          "height": 619
        },
        "id": "F7eyyqPeHfY-",
        "outputId": "a92df6f3-e030-41ca-eb12-1241f5975cfd"
      },
      "outputs": [
        {
          "output_type": "stream",
          "name": "stderr",
          "text": [
            "<ipython-input-7-985ec102be2c>:14: UserWarning: color is redundantly defined by the 'color' keyword argument and the fmt string \"k\" (-> color=(0.0, 0.0, 0.0, 1)). The keyword argument will take precedence.\n",
            "  plt.plot(x, p, 'k', linewidth=2, label='Distribución Normal', color = \"darkblue\")\n"
          ]
        },
        {
          "output_type": "display_data",
          "data": {
            "text/plain": [
              "<Figure size 1000x600 with 1 Axes>"
            ],
            "image/png": "[encoded data removed]"
          },
          "metadata": {}
        }
      ],
      "source": [
        "import seaborn as sns\n",
        "import numpy as np\n",
        "from scipy.stats import norm\n",
        "import matplotlib.pyplot as plt\n",
        "intervalos1 = range(min(df1.EDAD_PADRE), max(df1.EDAD_PADRE) + 1)\n",
        "plt.figure(figsize=(10, 6))\n",
        "sns.histplot(x = df1.EDAD_PADRE, bins = intervalos1, kde = True, stat = \"density\", color = \"skyblue\", edgecolor='black') # kde = \"True\" es la gráfica de la función de densidad de probabilidad estimada bajo el método Kernell\n",
        "sns.histplot(x=df1.EDAD_PADRE, bins=intervalos1, kde=True, stat=\"density\", color= \"skyblue\", edgecolor=\"black\")\n",
        "\n",
        "xmin, xmax = plt.xlim()\n",
        "x = np.linspace(xmin, xmax, 1000)\n",
        "p = norm.pdf(x, np.mean(df1.EDAD_PADRE), np.std(df1.EDAD_PADRE))\n",
        "\n",
        "plt.plot(x, p, 'k', linewidth=2, label='Distribución Normal', color = \"darkblue\")\n",
        "sns.kdeplot(x=df1.EDAD_PADRE, color = \"darkgreen\")\n",
        "\n",
        "plt.title('Histograma, FDP por un Kernel y FDP bajo normalidad')\n",
        "plt.xlabel('Edad (años)')\n",
        "plt.ylabel('Densidad')\n",
        "plt.legend()\n",
        "\n",
        "# Mostrar el gráfico\n",
        "plt.show()"
      ]
    },
    {
      "cell_type": "markdown",
      "metadata": {
        "id": "gIIHo31IH-Mz"
      },
      "source": [
        "Sea $X:=$ Edad del padre de un recién nacido en Colombia.\n",
        "\n",
        "Descriptivamente como la función de densidad de probabilidad de los datos estimada por un método Kernell (línea color cyan) no coincide con la función de densidad de probabilidad asumiendo el supuesto de normalidad (línea color azul),\n",
        "$X∼\\text{Normal}(\\text{Media}=\\bar{x},\\text{Varianza}=S^2_x)$\n",
        "entonces no asumimos normalidad.\n"
      ]
    },
    {
      "cell_type": "code",
      "execution_count": 8,
      "metadata": {
        "colab": {
          "base_uri": "https://localhost:8080/"
        },
        "id": "ZmjTiMWUNxrD",
        "outputId": "aea621d8-0e9f-4c6a-84db-f6dbaffbb53c"
      },
      "outputs": [
        {
          "output_type": "stream",
          "name": "stderr",
          "text": [
            "/usr/local/lib/python3.10/dist-packages/scipy/stats/_morestats.py:1882: UserWarning: p-value may not be accurate for N > 5000.\n",
            "  warnings.warn(\"p-value may not be accurate for N > 5000.\")\n"
          ]
        },
        {
          "output_type": "execute_result",
          "data": {
            "text/plain": [
              "ShapiroResult(statistic=0.958814799785614, pvalue=0.0)"
            ]
          },
          "metadata": {},
          "execution_count": 8
        }
      ],
      "source": [
        "from scipy.stats import shapiro\n",
        "shapiro(df1.EDAD_PADRE)"
      ]
    },
    {
      "cell_type": "code",
      "execution_count": 9,
      "metadata": {
        "colab": {
          "base_uri": "https://localhost:8080/",
          "height": 620
        },
        "id": "jA4dxqX-HyVp",
        "outputId": "c7fb40f7-7af5-4133-9b45-1e9325ffbc81"
      },
      "outputs": [
        {
          "output_type": "stream",
          "name": "stderr",
          "text": [
            "<ipython-input-9-8df5ecf9fb43>:10: UserWarning: color is redundantly defined by the 'color' keyword argument and the fmt string \"k\" (-> color=(0.0, 0.0, 0.0, 1)). The keyword argument will take precedence.\n",
            "  plt.plot(x, p, 'k', linewidth=2, label='Distribución Normal', color = \"darkblue\")\n"
          ]
        },
        {
          "output_type": "display_data",
          "data": {
            "text/plain": [
              "<Figure size 1000x600 with 1 Axes>"
            ],
            "image/png": "[encoded data removed]"
          },
          "metadata": {}
        }
      ],
      "source": [
        "intervalos2 = range(min(df1.N_EMB), max(df1.N_EMB) + 1)\n",
        "plt.figure(figsize=(10, 6))\n",
        "sns.histplot(x = df1.N_EMB, bins = intervalos2, kde = True, stat = \"density\", color = \"skyblue\", edgecolor='black') # kde = True es la gráfica de la función de densidad de probabilidad estimada por un método Kernell\n",
        "sns.histplot(x=df1.N_EMB, bins=intervalos2, kde=True, stat=\"density\", color= \"skyblue\", edgecolor=\"black\")\n",
        "\n",
        "xmin, xmax = plt.xlim()\n",
        "x = np.linspace(xmin, xmax, 1000)\n",
        "p = norm.pdf(x, np.mean(df1.N_EMB), np.std(df1.N_EMB))\n",
        "\n",
        "plt.plot(x, p, 'k', linewidth=2, label='Distribución Normal', color = \"darkblue\")\n",
        "sns.kdeplot(x=df1.N_EMB, color = \"darkgreen\")\n",
        "\n",
        "plt.title('Histograma, FDP por un Kernel y FDP bajo normalidad')\n",
        "plt.xlabel('Número de embarazos, incluido el presente')\n",
        "plt.ylabel('Densidad')\n",
        "plt.legend()\n",
        "\n",
        "# Mostrar el gráfico\n",
        "plt.show()"
      ]
    },
    {
      "cell_type": "markdown",
      "metadata": {
        "id": "VauB3UEfMoW7"
      },
      "source": [
        "Sea $X:=$ Número de embarazasos incluído el presente.\n",
        "\n",
        "Descriptivamente como la función de densidad de probabilidad de los datos estimada por un método Kernell (línea color cyan) no coincide con la función de densidad de probabilidad asumiendo el supuesto de normalidad (línea color azul),\n",
        "$X∼\\text{Normal}(\\text{Media}=\\bar{x},\\text{Varianza}=S^2_x)$\n",
        "entonces no asumimos normalidad."
      ]
    },
    {
      "cell_type": "code",
      "execution_count": 10,
      "metadata": {
        "colab": {
          "base_uri": "https://localhost:8080/"
        },
        "id": "6ttPAARKOCO0",
        "outputId": "d2fdfdf1-46b4-4540-dd75-5b95d058b77d"
      },
      "outputs": [
        {
          "output_type": "stream",
          "name": "stderr",
          "text": [
            "/usr/local/lib/python3.10/dist-packages/scipy/stats/_morestats.py:1882: UserWarning: p-value may not be accurate for N > 5000.\n",
            "  warnings.warn(\"p-value may not be accurate for N > 5000.\")\n"
          ]
        },
        {
          "output_type": "execute_result",
          "data": {
            "text/plain": [
              "ShapiroResult(statistic=0.7744329571723938, pvalue=0.0)"
            ]
          },
          "metadata": {},
          "execution_count": 10
        }
      ],
      "source": [
        "shapiro(df1.N_EMB)"
      ]
    },
    {
      "cell_type": "markdown",
      "metadata": {
        "id": "C1Lmjx_gOSr6"
      },
      "source": [
        "* Si el **valor** p es una prueba de hipótesis es menor que 0.05 se rechaza la hipótesis nula con una confianza del 95%\n",
        "* Si el **valor p** es una prueba de hipótesis es mayor que 0.05 no se rechaza la hipótesis nula con una confianza del 95%\n",
        "\n",
        "Analizando los datos, tenemos que para ambos casos $(pvalue=0.0) < 0.05$. Entonces, se rechaza que la variable aleatoria de la edad de un padre de un recién nacido en Colombia y el número de embarazos (incluido el presente), tienen distribución normal."
      ]
    },
    {
      "cell_type": "code",
      "execution_count": 11,
      "metadata": {
        "colab": {
          "base_uri": "https://localhost:8080/"
        },
        "id": "-UF4jlM-Pgh1",
        "outputId": "18616bbf-1afe-4c5e-a6ba-31d485fee234"
      },
      "outputs": [
        {
          "output_type": "execute_result",
          "data": {
            "text/plain": [
              "619932"
            ]
          },
          "metadata": {},
          "execution_count": 11
        }
      ],
      "source": [
        "df1.EDAD_PADRE.count()\n",
        "len(df1.EDAD_PADRE)"
      ]
    },
    {
      "cell_type": "code",
      "execution_count": 12,
      "metadata": {
        "colab": {
          "base_uri": "https://localhost:8080/"
        },
        "id": "_p3ueaF9Pio4",
        "outputId": "8901d2ef-c962-4ae9-e01b-f08ab4194d66"
      },
      "outputs": [
        {
          "output_type": "execute_result",
          "data": {
            "text/plain": [
              "ShapiroResult(statistic=0.8435390591621399, pvalue=6.894687043512704e-09)"
            ]
          },
          "metadata": {},
          "execution_count": 12
        }
      ],
      "source": [
        "idx =np.random.randint(len(df1.EDAD_PADRE), size=100)\n",
        "idx\n",
        "shapiro(df1.EDAD_PADRE.index[idx])"
      ]
    },
    {
      "cell_type": "code",
      "execution_count": 13,
      "metadata": {
        "colab": {
          "base_uri": "https://localhost:8080/"
        },
        "id": "6_bI1iOLPoWR",
        "outputId": "043e9774-63bf-4965-af66-99a5621d3a64"
      },
      "outputs": [
        {
          "output_type": "execute_result",
          "data": {
            "text/plain": [
              "ShapiroResult(statistic=0.8374980688095093, pvalue=4.2051206960991294e-09)"
            ]
          },
          "metadata": {},
          "execution_count": 13
        }
      ],
      "source": [
        "idx =np.random.randint(len(df1.N_EMB), size=100)\n",
        "idx\n",
        "shapiro(df1.N_EMB.index[idx])"
      ]
    },
    {
      "cell_type": "markdown",
      "metadata": {
        "id": "gO26a02CQDkk"
      },
      "source": [
        "*   Como el valor $p=6.894687043512704×10^{-9} < 0.05$, entonces se rechaza que la variable aleatoria de la edad de un padre de un recién nacido en Colombia presenta distribución normal.\n",
        "*   Como el valor $p=4.2051206960991294×10^{-8} < 0.05$, entonces se rechaza que la variable aleatoria de la edad de un padre de un recién nacido en Colombia presenta distribución normal.\n",
        "\n"
      ]
    },
    {
      "cell_type": "code",
      "source": [
        "plt.figure(figsize=(5, 5))\n",
        "sns.boxplot(df1.EDAD_PADRE, color='skyblue', saturation=0.75)\n",
        "plt.show()"
      ],
      "metadata": {
        "colab": {
          "base_uri": "https://localhost:8080/",
          "height": 427
        },
        "id": "m4PDR4nmdURI",
        "outputId": "ad245cc8-04e6-41f0-919e-cff59a66ef24"
      },
      "execution_count": 14,
      "outputs": [
        {
          "output_type": "display_data",
          "data": {
            "text/plain": [
              "<Figure size 500x500 with 1 Axes>"
            ],
            "image/png": "[encoded data removed]"
          },
          "metadata": {}
        }
      ]
    },
    {
      "cell_type": "markdown",
      "metadata": {
        "id": "u688GPz8S8g5"
      },
      "source": [
        "Haciendo un análisis de la gráfica, podemos considerar que la edad de un padre de un recién nacido en Colombia es atípica si es mayor a $50$ años. También podemos afirmar que el primer cuartil es aproximadamente $25$ años, la media aritmética es aproximadamente $29$ años y el tercer cuartil es aproximadamente $35$ años.\n",
        "\n",
        "$\\text{Rango intercuartílico}=\\text{Tercer cuartil}-\\text{Primer cuartil}=35-25=10$"
      ]
    },
    {
      "cell_type": "code",
      "source": [
        "plt.figure(figsize=(5, 5))\n",
        "sns.boxplot(df1.N_EMB, color='skyblue', saturation=0.75)\n",
        "plt.show()"
      ],
      "metadata": {
        "colab": {
          "base_uri": "https://localhost:8080/",
          "height": 426
        },
        "id": "s1e_rs7odYDv",
        "outputId": "99602deb-89e3-48ce-b4d5-5b2f53d02b86"
      },
      "execution_count": 15,
      "outputs": [
        {
          "output_type": "display_data",
          "data": {
            "text/plain": [
              "<Figure size 500x500 with 1 Axes>"
            ],
            "image/png": "[encoded data removed]"
          },
          "metadata": {}
        }
      ]
    },
    {
      "cell_type": "markdown",
      "metadata": {
        "id": "RZBYcJnmUaRC"
      },
      "source": [
        "Siguiendo la estructura del análisis anteirior, en este caso se considera que el número de embarazos (incluido el presente), es atípico si es mayor que $6$. El primer cuartil es aproximadamente $1$ embarazo, la media aritmética es aproximadamente $2$ embarazos y el tercer cuartil es aproximadamente $3$ embarazos.\n",
        "\n",
        "$\\text{Rango intercuartílico}=\\text{Tercer cuartil}-\\text{Primer cuartil}=3-2=1$"
      ]
    },
    {
      "cell_type": "code",
      "execution_count": null,
      "metadata": {
        "id": "6fdvqhXdVFct"
      },
      "outputs": [],
      "source": [
        "import plotly.express as px\n",
        "plt.figure(figsize=(5, 5))\n",
        "fig = px.strip(df1.EDAD_PADRE, orientation = 'h')\n",
        "fig.show()"
      ]
    },
    {
      "cell_type": "markdown",
      "metadata": {
        "id": "OkMTZxgQZVL6"
      },
      "source": [
        "De acuerdo con el diagrama de puntos se observa una alta variabilidad de la edad de un padre de un recién Nacido en Colombia.\n"
      ]
    },
    {
      "cell_type": "code",
      "execution_count": 16,
      "metadata": {
        "id": "cgqYxOUxZaJz",
        "colab": {
          "base_uri": "https://localhost:8080/"
        },
        "outputId": "e1d89fe0-6bce-4749-c846-b0e27bd1ef64"
      },
      "outputs": [
        {
          "output_type": "stream",
          "name": "stdout",
          "text": [
            "Media: 29.67728396017628\n",
            "Varianza 58.13749376325272 y la desviación estándar es de 7.624794670235568\n",
            "Asimetría: 0.8353050307248143\n",
            "Curtosis: 0.9739372918657319\n"
          ]
        }
      ],
      "source": [
        "import numpy as np\n",
        "from scipy.stats import skew, kurtosis\n",
        "\n",
        "print(f\"Media: {np.mean(df1.EDAD_PADRE)}\")\n",
        "print(f\"Varianza {np.var(df1.EDAD_PADRE)} y la desviación estándar es de {np.std(df1.EDAD_PADRE)}\")\n",
        "print(f\"Asimetría: {skew(df1.EDAD_PADRE)}\")\n",
        "print(f\"Curtosis: {kurtosis(df1.EDAD_PADRE)}\")"
      ]
    },
    {
      "cell_type": "markdown",
      "metadata": {
        "id": "-8tESx5LaIDw"
      },
      "source": [
        "* El promedio de la edad de un padre de un recién nacido en Colombia es aproximadamente 29.7 años.\n",
        "* La distancia entre los valores de la edad un padre de un recién nacido en Colombia y la media es de mas o menos 7.62 años\n",
        "* La distribución de la edad de un padre de un recién nacido en Colombia es asimétrica positiva, es decir, la media es mayor que la moda de la variable aleatoria.\n",
        "* La distribución es platicúrtica, es decir, hay una baja concentración de las edades de un padre de un recién nacido en Colombia con respecto a la media.\n",
        "\n",
        "Distribución de los datos: La media de aproximadamente $29.68$ con una desviación estándar de $7.62$ indica que la mayoría de los datos están en el rango de $[22.05,37.30]$ (aproximadamente una desviación estándar por encima y por debajo de la media).\n",
        "\n",
        "Sesgo y Simetría: la asimetría positiva sugiere que hay una tendencia hacia valores más altos, aunque la mayor parte de los datos está a la izquierda de la media.\n",
        "\n",
        "Forma de la Distribución: La curtosis cercana a $1$ indica que la distribución es algo más plana (platicúrtica) que una distribución normal, sugiriendo menos presencia de valores extremos ."
      ]
    },
    {
      "cell_type": "code",
      "execution_count": 17,
      "metadata": {
        "id": "p7j4_eeHbM07",
        "colab": {
          "base_uri": "https://localhost:8080/"
        },
        "outputId": "df48bee6-e3e0-4a61-de9c-6f6e3dbb2fcc"
      },
      "outputs": [
        {
          "output_type": "stream",
          "name": "stdout",
          "text": [
            "Media: 2.102030545285612\n",
            "Varianza 1.7488730440590166 y la desviación estándar es de 1.32244963762671\n",
            "Asimetría: 1.9222969798771323\n",
            "Curtosis: 6.016495893676325\n"
          ]
        }
      ],
      "source": [
        "print(f\"Media: {np.mean(df1.N_EMB)}\")\n",
        "print(f\"Varianza {np.var(df1.N_EMB)} y la desviación estándar es de {np.std(df1.N_EMB)}\")\n",
        "print(f\"Asimetría: {skew(df1.N_EMB)}\")\n",
        "print(f\"Curtosis: {kurtosis(df1.N_EMB)}\")"
      ]
    },
    {
      "cell_type": "markdown",
      "metadata": {
        "id": "PTBME7OwbmtK"
      },
      "source": [
        "* El promedio del número de embarazos (incluido el presente), es aproximadamente de $2.10$ embarazos.\n",
        "* La distancia aproximada entre los valores de del número de embarazos (incluido el presente), y la media es de $1.322$.\n",
        "* La distribución del número de embarazos (incluido el presente), es asimétrica positiva, es decir, la media es mayor que la moda de la variable aleatoria.\n",
        "* La distribución es leptocúrtica, es decir, hay una alta concentración del número de embarazos, incluido el presente con respecto a la media."
      ]
    },
    {
      "cell_type": "markdown",
      "metadata": {
        "id": "V1PckZdact03"
      },
      "source": [
        "A conitnuación, con ayuda de un **Diagrama de dispersión y la recta de regresión para datos bivariados**, vamos a determinar si una variable está correlacionada o depende de otras variables\n",
        "\n",
        "* Una variable depende de la otra, cuando la ejecución de esta se ve afectada por la variable independiente. Por ejemplo, el precio de una vivienda depende del número de habitaciones, ya que entre más habitaciones se tiene mayor precio.\n",
        "* Una variable está correlacionada con otra, cuando guardan cierta relación, pero no es posible hablar de dependencia. Por ejemplo, el consumo de arroz y de carne, ya que se ha visto que al comerse más arroz se come más carne, pero no hay una dependencia entre estas dos variables."
      ]
    },
    {
      "cell_type": "code",
      "execution_count": 18,
      "metadata": {
        "id": "8s2id8vrdefC",
        "colab": {
          "base_uri": "https://localhost:8080/",
          "height": 388
        },
        "outputId": "e32bea74-7059-48f2-a313-a0ebf1b5db72"
      },
      "outputs": [
        {
          "output_type": "display_data",
          "data": {
            "text/plain": [
              "<Figure size 500x400 with 1 Axes>"
            ],
            "image/png": "[encoded data removed]"
          },
          "metadata": {}
        }
      ],
      "source": [
        "plt.figure(figsize=(5, 4))\n",
        "plt.scatter(df1[\"N_EMB\"], df1[\"EDAD_PADRE\"], color = \"darkgreen\", marker = \"o\")\n",
        "plt.xlabel('Número de embarazos, incluido el presente')\n",
        "plt.ylabel('Edad del padre (años)')\n",
        "plt.show()"
      ]
    },
    {
      "cell_type": "markdown",
      "metadata": {
        "id": "oultTPJad8qx"
      },
      "source": [
        "En el diagrama de dispersión se observa una nube de puntos sin un patrón particular, lo que indica que las variables son independientes o no están correlacionadas. En nuestro ejemplo, esto significa que el número de embarazos, incluido el presente, y la edad de un padre en Colombia no están correlacionados."
      ]
    },
    {
      "cell_type": "code",
      "execution_count": 19,
      "metadata": {
        "id": "dXildqUneXFM",
        "colab": {
          "base_uri": "https://localhost:8080/"
        },
        "outputId": "ceba58d3-525a-4211-eed2-c97bf6d75286"
      },
      "outputs": [
        {
          "output_type": "execute_result",
          "data": {
            "text/plain": [
              "array([[27.43380069],\n",
              "       [27.43380069],\n",
              "       [27.43380069],\n",
              "       ...,\n",
              "       [29.469573  ],\n",
              "       [27.43380069],\n",
              "       [27.43380069]])"
            ]
          },
          "metadata": {},
          "execution_count": 19
        }
      ],
      "source": [
        "from sklearn.linear_model import LinearRegression\n",
        "modelo = LinearRegression()\n",
        "# df1[\"N_EMB\"] es igual a escribir df1.N_EMB\n",
        "modelo.fit(np.array(df1.N_EMB).reshape(-1, 1), np.array(df1[\"EDAD_PADRE\"]).reshape(-1, 1))\n",
        "predi_lineal = modelo.predict(np.array(df1.N_EMB).reshape(-1, 1))\n",
        "predi_lineal"
      ]
    },
    {
      "cell_type": "code",
      "execution_count": 20,
      "metadata": {
        "id": "7vZw7blrecza",
        "colab": {
          "base_uri": "https://localhost:8080/",
          "height": 388
        },
        "outputId": "03be3db1-c7c3-4e50-a022-a749e99b45da"
      },
      "outputs": [
        {
          "output_type": "display_data",
          "data": {
            "text/plain": [
              "<Figure size 500x400 with 1 Axes>"
            ],
            "image/png": "[encoded data removed]"
          },
          "metadata": {}
        }
      ],
      "source": [
        "plt.figure(figsize=(5, 4))\n",
        "plt.scatter(df1[\"N_EMB\"], df1[\"EDAD_PADRE\"], color = \"purple\", marker = \"o\")\n",
        "plt.plot(df1[\"N_EMB\"], predi_lineal, linestyle='-', color = \"red\")\n",
        "plt.xlabel('Número de embarazos, incluido el presente')\n",
        "plt.ylabel('Edad del padre (años)')\n",
        "plt.show()"
      ]
    },
    {
      "cell_type": "markdown",
      "metadata": {
        "id": "K0h8HNvtfuJi"
      },
      "source": [
        "De acuerdo con la recta de regresión se determina una correlación positiva, es decir que entre más embarazos incluido el presente, más años tiene esta persona.\n",
        "\n",
        "*La variable $Y$ depende positivamente de la variable $X$, es decir, entre mayor sea el valor de $X$, mayor será el valor de $Y$.*"
      ]
    },
    {
      "cell_type": "code",
      "execution_count": 21,
      "metadata": {
        "id": "lht28gZ5gEus",
        "colab": {
          "base_uri": "https://localhost:8080/"
        },
        "outputId": "dea2e157-d478-4e2f-ee80-1b0d367366fe"
      },
      "outputs": [
        {
          "output_type": "stream",
          "name": "stdout",
          "text": [
            "Los coeficientes de correlación de Pearson, Spearman y Kendall son respectivamente 0.3530857510781986, 0.37998015979212696 y 0.29695921176068596.\n"
          ]
        }
      ],
      "source": [
        "from scipy.stats import spearmanr, kendalltau\n",
        "coef_pearson = np.corrcoef(df1[\"N_EMB\"], df1[\"EDAD_PADRE\"])[0, 1]\n",
        "coef_spearman, _ = spearmanr(df1[\"N_EMB\"], df1[\"EDAD_PADRE\"])\n",
        "coef_kendall, _ = kendalltau(df1[\"N_EMB\"], df1[\"EDAD_PADRE\"])\n",
        "print(f\"Los coeficientes de correlación de Pearson, Spearman y Kendall son respectivamente {coef_pearson}, {coef_spearman} y {coef_kendall}.\")\n"
      ]
    },
    {
      "cell_type": "markdown",
      "metadata": {
        "id": "I6OqD-mWgc8n"
      },
      "source": [
        "Para la interpretación de los coeficientes de correlación nos ayudaremos de la referencia:\n",
        "\n",
        "*Landis, J. R., & Koch, G. G. (1977). The measurement of observer agreement for categorical data. biometrics, 159-174.*\n",
        "\n",
        "* Las varaibles $X$,$Y$ son independientes o no están correlacionadas: $ρ(X,Y)\\approx{0}, η(X,Y)≈0, κ(X,Y)≈{0}$\n",
        "* $Y$ depende insignificativamente de $X$ o $X,Y$ están insignificativamente correlacionadas si $0<|ρ(X,Y)|<{0.2},0<|η(X,Y)|<{0.2},0<|κ(X,Y)|<{0.2}$\n",
        "* $Y$ depende discretamente de $X$ o $X,Y$ están discretamente correlacionadas si ${0.2}<|ρ(X,Y)|<{0.4}, {0.2}<|η(X,Y)|<{0.4}, {0.2}<|κ(X,Y)|<{0.4}$\n",
        "* $Y$ depende moderadamente de $X$ o $X,Y$ están moderadamente correlacionadas si ${0.4}<|ρ(X,Y)|<{0.6}, {0.4}<|η(X,Y)|<{0.6}, {0.4}<|κ(X,Y)|<{0.6}$\n",
        "* $Y$ depende sustancialmente de $X$ o $X,Y$ están sustancialmente correlacionadas si ${0.6}<|ρ(X,Y)|<{0.8}, {0.6}<|η(X,Y)|<{0.8}, {0.6}<|κ(X,Y)|<{0.8}$  \n",
        "* $Y$ depende fuertemente de $X$ o $X,Y$ están fuertemente correlacionadas si ${0.8}<|ρ(X,Y)|<{1} {0.8}<|η(X,Y)|<{1}, {0.8}<|κ(X,Y)|<{1}$"
      ]
    },
    {
      "cell_type": "markdown",
      "metadata": {
        "id": "vK7oJpIINMCp"
      },
      "source": [
        "De acuerdo con los coeficientes de correlación de Pearson, de Kendall y de Spearman se determina que el número de hijos de un padre y la edad de un padre de un recién nacido en Colombia están discretamente correlacionadas."
      ]
    },
    {
      "cell_type": "markdown",
      "metadata": {
        "id": "mooegKY9Naef"
      },
      "source": [
        "# **Conclusión**\n",
        "El estudio en relación con la edad de los padres de recien nacidos y el número de embarazos en Colombia, de la base de datos $\\text{ariosgu_nac2020.csv}$, revela que ambas variables, *edad del padre* y *número de embarazos*, no siguen una distribución normal. Esto se concluye a partir de la comparación entre las funciones de densidad de probabilidad estimadas por el método Kernel y las asumidas bajo normalidad, además de los valores p significativamente menores a $0.05$.\n",
        "\n",
        "La distribución de la edad del padre muestra una asimetría positiva y una curtosis platicúrtica. Esto sugiere que la mayoría de los padres son más jóvenes con una minoría de padres de edad significativamente mayor, con menor concentración de datos alrededor de la media. Por otro lado, la distribución del número de embarazos también es asimétrica positiva, pero con una curtosis leptocúrtica, indicando una alta concentración de datos alrededor de la media.\n",
        "\n",
        "Aunque el diagrama de dispersión sugiere que la edad del padre y el número de embarazos no están correlacionados, la recta de regresión y los coeficientes de correlación indican una correlación positiva discreta. Este hallazgo implica que, aunque las variables no sean altamente dependientes, existe una ligera tendencia en la que los padres con más embarazos tienden a ser de mayor edad.\n",
        "\n",
        "Desde una perspectiva demográfica, estos resultados son consistentes con tendencias observadas en otros contextos. La correlación positiva entre edad del padre y número de embarazos podría estar relacionada con factores socioculturales y económicos. Estudios como los de Menken y Trussell (1978) han mostrado que en muchas sociedades, los hombres tienden a tener hijos a una edad más avanzada en función de factores económicos y de estabilidad familiar . Además, el patrón de alta concentración alrededor de valores medios en el número de embarazos refleja tendencias demográficas observadas en sociedades en transición demográfica, donde se pasa de patrones de alta fecundidad a niveles más moderados y controlados .\n",
        "\n",
        "Referencias:\n",
        "\n",
        "* *Menken, J., & Trussell, J. (1978). \"The timing of marriages and births.\" Demography, 15(1), 1-22.*\n",
        "* *Lee, R. (2003). \"The Demographic Transition: Three Centuries of Fundamental Change.\" Journal of Economic Perspectives, 17(4), 167-190.*\n",
        "\n",
        "\n",
        "\n",
        "\n",
        "\n"
      ]
    }
  ],
  "metadata": {
    "colab": {
      "provenance": [],
      "authorship_tag": "ABX9TyPe64AKBa/yHYWWNJO6J1yV",
      "include_colab_link": true
    },
    "kernelspec": {
      "display_name": "Python 3",
      "name": "python3"
    },
    "language_info": {
      "name": "python"
    }
  },
  "nbformat": 4,
  "nbformat_minor": 0
}