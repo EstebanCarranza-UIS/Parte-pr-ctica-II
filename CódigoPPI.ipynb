{
  "nbformat": 4,
  "nbformat_minor": 0,
  "metadata": {
    "colab": {
      "provenance": [],
      "authorship_tag": "ABX9TyPjWJTfc+tdGXL5RnVLJB1z",
      "include_colab_link": true
    },
    "kernelspec": {
      "name": "python3",
      "display_name": "Python 3"
    },
    "language_info": {
      "name": "python"
    }
  },
  "cells": [
    {
      "cell_type": "markdown",
      "metadata": {
        "id": "view-in-github",
        "colab_type": "text"
      },
      "source": [
        "<a href=\"https://colab.research.google.com/github/EstebanCarranza-UIS/Parte-pr-ctica-II/blob/main/C%C3%B3digoPPI.ipynb\" target=\"_parent\"><img src=\"https://colab.research.google.com/assets/colab-badge.svg\" alt=\"Open In Colab\"/></a>"
      ]
    },
    {
      "cell_type": "markdown",
      "source": [
        "# Código usado"
      ],
      "metadata": {
        "id": "INfcjImwDFou"
      }
    },
    {
      "cell_type": "code",
      "execution_count": null,
      "metadata": {
        "id": "eqIP1E0eDEBS"
      },
      "outputs": [],
      "source": [
        "from google.colab import files # Para cargar archivos en google colab\n",
        "uploaded = files.upload()"
      ]
    },
    {
      "cell_type": "code",
      "source": [
        "import pandas as pd\n",
        "import io\n",
        "import matplotlib_venn as plt\n",
        "from sklearn.model_selection import train_test_split\n",
        "from sklearn.linear_model import LinearRegression\n",
        "import numpy as np\n",
        "from mpl_toolkits.mplot3d import Axes3D\n",
        "import matplotlib.pyplot as plt\n",
        "from sklearn.neural_network import MLPRegressor\n",
        "from scipy.stats import spearmanr, kendalltau, pearsonr"
      ],
      "metadata": {
        "id": "gm0QGqmiDZ2h"
      },
      "execution_count": null,
      "outputs": []
    },
    {
      "cell_type": "code",
      "source": [
        "datos_icfes = pd.read_csv(io.BytesIO(uploaded['SB11_20231.TXT']),\n",
        "delimiter='¬')"
      ],
      "metadata": {
        "id": "POX1Ou3BDcrP"
      },
      "execution_count": null,
      "outputs": []
    },
    {
      "cell_type": "code",
      "source": [
        "# Asegúrate de que los nombres de las columnas estén correctos\n",
        "columnas_necesarias = ['ESTU_INSE_INDIVIDUAL', 'PUNT_LECTURA_CRITICA', 'PUNT_MATEMATICAS',\n",
        "                       'PUNT_C_NATURALES', 'PUNT_SOCIALES_CIUDADANAS', 'PUNT_INGLES']\n",
        "\n",
        "# Verifica si las columnas existen en el DataFrame\n",
        "for columna in columnas_necesarias:\n",
        "    if columna not in datos_icfes.columns:\n",
        "        print(f\"La columna {columna} no existe en el DataFrame.\")\n",
        "\n",
        "# Si todas las columnas están presentes, aplicamos el filtro\n",
        "icfes_sin_nan = datos_icfes.dropna(subset=columnas_necesarias)\n",
        "\n",
        "# Muestra las primeras filas para verificar\n",
        "print(icfes_sin_nan.head())"
      ],
      "metadata": {
        "id": "wT3OSUsfDfTM"
      },
      "execution_count": null,
      "outputs": []
    },
    {
      "cell_type": "code",
      "source": [
        "icfes_sin_nan = datos_icfes[(~datos_icfes['ESTU_INSE_INDIVIDUAL'].isna()) &\n",
        " (~datos_icfes['PUNT_LECTURA_CRITICA'].isna()) &\n",
        "  (~datos_icfes['PUNT_MATEMATICAS'].isna()) &\n",
        "   (~datos_icfes['PUNT_C_NATURALES'].isna()) &\n",
        "    (~datos_icfes['PUNT_SOCIALES_CIUDADANAS'].isna()) &\n",
        "     (~datos_icfes['PUNT_INGLES'].isna())]"
      ],
      "metadata": {
        "id": "3QaVkDX9DiOy"
      },
      "execution_count": null,
      "outputs": []
    },
    {
      "cell_type": "code",
      "source": [
        "print(icfes_sin_nan)\n",
        "print(datos_icfes)\n",
        "icfes_sin_nan.info()"
      ],
      "metadata": {
        "id": "crY41PfUDj4j"
      },
      "execution_count": null,
      "outputs": []
    },
    {
      "cell_type": "code",
      "source": [
        "tabla_regresion = icfes_sin_nan[['ESTU_INSE_INDIVIDUAL', 'PUNT_INGLES', 'PUNT_SOCIALES_CIUDADANAS',\n",
        "                                 'PUNT_C_NATURALES', 'PUNT_MATEMATICAS', 'PUNT_LECTURA_CRITICA']]\n",
        "tabla_regresion.head(4)"
      ],
      "metadata": {
        "id": "PC2QC09MDq1M"
      },
      "execution_count": null,
      "outputs": []
    },
    {
      "cell_type": "code",
      "source": [
        "tabla_regresion['PUNT_MATEMATICAS'].hist(bins=100)\n",
        "tabla_regresion['PUNT_C_NATURALES'].hist(bins=100)\n",
        "tabla_regresion['PUNT_SOCIALES_CIUDADANAS'].hist(bins=100)\n",
        "tabla_regresion['PUNT_LECTURA_CRITICA'].hist(bins=100)\n",
        "tabla_regresion['PUNT_INGLES'].hist(bins=100)\n",
        "\n",
        "tabla_regresion['ESTU_INSE_INDIVIDUAL'].hist(bins=100)"
      ],
      "metadata": {
        "id": "P8c0Do8jDrge"
      },
      "execution_count": null,
      "outputs": []
    },
    {
      "cell_type": "code",
      "source": [
        "x0 = np.array(tabla_regresion['PUNT_INGLES']).reshape(-1,1)\n",
        "y0 = tabla_regresion['ESTU_INSE_INDIVIDUAL']\n",
        "trainx, testx, trainy, testy = train_test_split(x0, y0, test_size = 0.2, random_state = 0)\n",
        "modelo_lineal0 = LinearRegression()\n",
        "regresion0 = modelo_lineal0.fit(trainx, trainy)\n",
        "pred_lineal0 = regresion0.predict(testx)\n",
        "\n",
        "plt.figure(figsize = (5,4))\n",
        "plt.scatter(tabla_regresion['PUNT_INGLES'], tabla_regresion['ESTU_INSE_INDIVIDUAL'], c=\"green\")\n",
        "plt.plot(testx, pred_lineal0, linestyle = '-', color = 'black')\n",
        "plt.show()"
      ],
      "metadata": {
        "id": "hUGtk7R1Dtxg"
      },
      "execution_count": null,
      "outputs": []
    },
    {
      "cell_type": "code",
      "source": [
        "x01 = np.array(tabla_regresion['PUNT_INGLES']).reshape(-1,1)\n",
        "y01 = tabla_regresion['ESTU_INSE_INDIVIDUAL']\n",
        "modelo_lineal01 = LinearRegression()\n",
        "regresion01 = modelo_lineal01.fit(x01, y01)\n",
        "pred_lineal01 = regresion01.predict(x01)\n",
        "\n",
        "plt.figure(figsize = (5,4))\n",
        "plt.scatter(tabla_regresion['PUNT_INGLES'], tabla_regresion['ESTU_INSE_INDIVIDUAL'])\n",
        "plt.plot(testx, pred_lineal, linestyle = '-', color = 'orange')\n",
        "plt.plot(tabla_regresion['PUNT_INGLES'], pred_lineal01, linestyle = '-', color = \"black\")\n",
        "plt.show()"
      ],
      "metadata": {
        "id": "bZQSlYwlD0Gt"
      },
      "execution_count": null,
      "outputs": []
    },
    {
      "cell_type": "code",
      "source": [
        "plt.figure(figsize = (5,4))\n",
        "plt.scatter(tabla_regresion['PUNT_INGLES'], tabla_regresion['ESTU_INSE_INDIVIDUAL'], color = 'green')\n",
        "plt.show()\n",
        "\n",
        "plt.figure(figsize=(5,4))\n",
        "plt.scatter(tabla_regresion['PUNT_C_NATURALES'], tabla_regresion['ESTU_INSE_INDIVIDUAL'], color = 'yellow')\n",
        "plt.show()\n",
        "\n",
        "plt.figure(figsize=(5,4))\n",
        "plt.scatter(tabla_regresion['PUNT_LECTURA_CRITICA'], tabla_regresion['ESTU_INSE_INDIVIDUAL'], color = 'purple')\n",
        "plt.show()\n",
        "\n",
        "plt.figure(figsize=(5,4))\n",
        "plt.scatter(tabla_regresion['PUNT_MATEMATICAS'], tabla_regresion['ESTU_INSE_INDIVIDUAL'], color = 'red')\n",
        "plt.show()\n",
        "\n",
        "plt.figure(figsize=(5,4))\n",
        "plt.scatter(tabla_regresion['PUNT_SOCIALES_CIUDADANAS'], tabla_regresion['ESTU_INSE_INDIVIDUAL'], color = 'orange')\n",
        "plt.show()"
      ],
      "metadata": {
        "id": "fYc6-YeuD1_W"
      },
      "execution_count": null,
      "outputs": []
    },
    {
      "cell_type": "code",
      "source": [
        "X = tabla_regresion.drop(\"ESTU_INSE_INDIVIDUAL\", axis = 1)\n",
        "Y = tabla_regresion['ESTU_INSE_INDIVIDUAL']\n",
        "trainX, testX, trainY, testY = train_test_split(X, Y, test_size = 0.2, random_state=0)\n",
        "trainX.head(5)\n",
        "\n",
        "modelo_lineal = LinearRegression()\n",
        "regresion = modelo_lineal.fit(trainX,trainY)\n",
        "pred_lineal = regresion.predict(testX)\n",
        "#regresion = (modelo_lineal.fit(np.array(tabla_regresion['PUNT_MATEMATICAS']).reshape(-1,1), np.array(tabla_regresion['ESTU_INSE_INDIVIDUAL']).reshape(-1,1), sample_weight = None)\n",
        "#pred_lineal = regresion.predict(np.array(tabla_regresion['PUNT_MATEMATICAS']).reshape(-1,1))\n",
        "pred_lineal\n",
        "\n",
        "r2_lineal = regresion.score(testX, testY)\n",
        "r2_lineal"
      ],
      "metadata": {
        "id": "1SgWq5nsD4AY"
      },
      "execution_count": null,
      "outputs": []
    },
    {
      "cell_type": "code",
      "source": [
        "X1 = tabla_regresion[['PUNT_SOCIALES_CIUDADANAS', 'PUNT_C_NATURALES', 'PUNT_MATEMATICAS', 'PUNT_LECTURA_CRITICA']]\n",
        "Y1 = tabla_regresion['ESTU_INSE_INDIVIDUAL']\n",
        "train1X, test1X, train1Y, test1Y = train_test_split(X1, Y1, test_size = 0.2, random_state=0)\n",
        "train1X.head(4)\n",
        "modelo_lineal1 = LinearRegression()\n",
        "regresion1 = modelo_lineal1.fit(train1X,train1Y)\n",
        "pred_lineal1 = regresion1.predict(test1X)\n",
        "r2_lineal = regresion1.score(test1X, test1Y)\n",
        "r2_lineal\n",
        "\n",
        "X2 = tabla_regresion[['PUNT_INGLES', 'PUNT_C_NATURALES', 'PUNT_MATEMATICAS', 'PUNT_LECTURA_CRITICA']]\n",
        "Y2 = tabla_regresion['ESTU_INSE_INDIVIDUAL']\n",
        "train2X, test2X, train2Y, test2Y = train_test_split(X2, Y2, test_size = 0.2, random_state=0)\n",
        "modelo_lineal2 = LinearRegression()\n",
        "regresion2 = modelo_lineal2.fit(train2X,train2Y)\n",
        "r2_lineal2 = regresion2.score(test2X, test2Y)\n",
        "r2_lineal2\n",
        "\n",
        "X3 = tabla_regresion[['PUNT_SOCIALES_CIUDADANAS', 'PUNT_INGLES', 'PUNT_MATEMATICAS', 'PUNT_LECTURA_CRITICA']]\n",
        "Y3 = tabla_regresion['ESTU_INSE_INDIVIDUAL']\n",
        "train3X, test3X, train3Y, test3Y = train_test_split(X3, Y3, test_size = 0.2, random_state=0)\n",
        "modelo_lineal3 = LinearRegression()\n",
        "regresion3 = modelo_lineal3.fit(train3X,train3Y)\n",
        "pred_lineal3 = regresion3.predict(test3X)\n",
        "r2_lineal3 = regresion3.score(test3X, test3Y)\n",
        "r2_lineal3\n",
        "\n",
        "X4 = tabla_regresion[['PUNT_SOCIALES_CIUDADANAS', 'PUNT_INGLES', 'PUNT_C_NATURALES', 'PUNT_LECTURA_CRITICA']]\n",
        "Y4 = tabla_regresion['ESTU_INSE_INDIVIDUAL']\n",
        "train4X, test4X, train4Y, test4Y = train_test_split(X4, Y4, test_size = 0.2, random_state=0)\n",
        "modelo_lineal4 = LinearRegression()\n",
        "regresion4 = modelo_lineal4.fit(train4X,train4Y)\n",
        "pred_lineal4 = regresion4.predict(test4X)\n",
        "r2_lineal4 = regresion4.score(test4X, test4Y)\n",
        "r2_lineal4\n",
        "\n",
        "X5 = tabla_regresion[['PUNT_SOCIALES_CIUDADANAS', 'PUNT_INGLES', 'PUNT_MATEMATICAS', 'PUNT_C_NATURALES']]\n",
        "Y5 = tabla_regresion['ESTU_INSE_INDIVIDUAL']\n",
        "train5X, test5X, train5Y, test5Y = train_test_split(X5, Y5, test_size = 0.2, random_state=0)\n",
        "modelo_lineal5 = LinearRegression()\n",
        "regresion5 = modelo_lineal5.fit(train5X,train5Y)\n",
        "pred_lineal5 = regresion5.predict(test5X)\n",
        "r2_lineal5 = regresion5.score(test5X, test5Y)\n",
        "r2_lineal5"
      ],
      "metadata": {
        "id": "AcTBuY08EF4O"
      },
      "execution_count": null,
      "outputs": []
    },
    {
      "cell_type": "code",
      "source": [
        "XY, Z = tabla_regresion[['PUNT_INGLES', 'PUNT_MATEMATICAS']], tabla_regresion['ESTU_INSE_INDIVIDUAL']\n",
        "trainXY, testXY, trainZ, testZ = train_test_split(XY, Z, test_size = 0.2, random_state = 0)\n",
        "trainXY.head(4)"
      ],
      "metadata": {
        "id": "ZCt5BEWKERQH"
      },
      "execution_count": null,
      "outputs": []
    },
    {
      "cell_type": "code",
      "source": [
        "modelo1 = LinearRegression()\n",
        "modelo1.fit(trainXY, trainZ)  #Con esto se entrena el modelo\n",
        "\n",
        "modelo1.score(testXY, testZ)"
      ],
      "metadata": {
        "id": "NvPfcTAsETPJ"
      },
      "execution_count": null,
      "outputs": []
    },
    {
      "cell_type": "code",
      "source": [
        "array = modelo1.coef_\n",
        "array"
      ],
      "metadata": {
        "id": "aeXelwlhEUwo"
      },
      "execution_count": null,
      "outputs": []
    },
    {
      "cell_type": "code",
      "source": [
        "tabla_regresion['ESTU_INSE_INDIVIDUAL'].hist(bins = 100)\n",
        "\n",
        "fig = plt.figure(figsize = ((10, 8)))\n",
        "ax = fig.add_subplot(projection = '3d')\n",
        "xx, yy = np.meshgrid(np.linspace(20, 100, num = 10), np.linspace(0, 100, num = 10))\n",
        "plano_reg = array[0]*xx + array[1]*yy + modelo1.intercept_\n",
        "\n",
        "ax.plot_surface(xx, yy, plano_reg, alpha = 0.2, cmap = 'hot')\n",
        "ax.scatter(trainXY['PUNT_INGLES'], trainXY['PUNT_MATEMATICAS'], trainZ, color = 'blue', s = 20)\n",
        "ax.scatter(testXY['PUNT_INGLES'], testXY['PUNT_MATEMATICAS'], testZ, color = 'orange', s = 20)\n",
        "ax.view_init(elev = 30, azim = 65)\n",
        "\n",
        "ax.set_xlabel('Puntaje en Inglés')\n",
        "ax.set_ylabel('Puntaje en Matemáticas')\n",
        "ax.set_zlabel('Nivel Socioeconómico del Evaluado')\n",
        "ax.set_title('Regresión Lineal con Múltiples Variables')\n",
        "plt.show()\n",
        "\n",
        "mlp_reg = MLPRegressor(hidden_layer_sizes = (10, 10, 10, 10),\n",
        "                       learning_rate = 'invscaling', max_iter = 500)\n",
        "mlp_reg.fit(trainX, trainY)\n",
        "\n",
        "mlp_reg.score(testX, testY)\n",
        "\n",
        "mlp_reg = MLPRegressor(hidden_layer_sizes = (10, 10, 10, 10, 10, 10),\n",
        "                       learning_rate = 'invscaling', max_iter = 500)\n",
        "mlp_reg.fit(trainX, trainY)\n",
        "mlp_reg.score(testX, testY)\n",
        "\n",
        "red = MLPRegressor(hidden_layer_sizes=(100,100,100,100, 100, 100),\n",
        "max_iter = 500,\n",
        "activation = 'relu',\n",
        "solver = 'adam',\n",
        "learning_rate = 'invscaling')\n",
        "\n",
        "red.fit(trainX, trainY)\n",
        "red.score(testX, testY)\n",
        "\n",
        "\n",
        "X.head(5)\n",
        "\n",
        "print(trainXY.columns)\n",
        "print(mlp_reg.n_features_in_)\n",
        "print(modelo_lineal.n_features_in_)\n",
        "print(trainX.shape)\n",
        "\n",
        "no_obs = np.array([[87, 77, 41, 56, 74]])\n",
        "print('Se espera que el nivel socioeconómico del evaluado sea', mlp_reg.predict(no_obs), 'bajo el perceptron múlticapa y',\n",
        "      modelo_lineal.predict(no_obs), 'bajo el modelo de regresión lineal múltiple')\n",
        "\n",
        "\n"
      ],
      "metadata": {
        "id": "bqanMEMgEYtt"
      },
      "execution_count": null,
      "outputs": []
    },
    {
      "cell_type": "code",
      "source": [
        "pearson_corr = np.corrcoef(tabla_regresion['PUNT_INGLES'], tabla_regresion['ESTU_INSE_INDIVIDUAL'])[0,1]\n",
        "pearman_corr = spearmanr(tabla_regresion['PUNT_INGLES'], tabla_regresion['ESTU_INSE_INDIVIDUAL'])\n",
        "kendall_corr = kendalltau(tabla_regresion['PUNT_INGLES'], tabla_regresion['ESTU_INSE_INDIVIDUAL'])\n",
        "\n",
        "print(f\"Los coeficientes de correlacióon de Pearson, Spearman y Kendall son respectivamente: {pearson_corr}, {pearman_corr}, {kendall_corr}\")\n",
        "\n",
        "pearson_corr = np.corrcoef(tabla_regresion['PUNT_C_NATURALES'], tabla_regresion['ESTU_INSE_INDIVIDUAL'])[0,1]\n",
        "pearman_corr = spearmanr(tabla_regresion['PUNT_C_NATURALES'], tabla_regresion['ESTU_INSE_INDIVIDUAL'])\n",
        "kendall_corr = kendalltau(tabla_regresion['PUNT_C_NATURALES'], tabla_regresion['ESTU_INSE_INDIVIDUAL'])\n",
        "\n",
        "print(f\"Los coeficientes de correlacióon de Pearson, Spearman y Kendall son respectivamente: {pearson_corr}, {pearman_corr}, {kendall_corr}\")\n",
        "\n",
        "pearson_corr = np.corrcoef(tabla_regresion['PUNT_LECTURA_CRITICA'], tabla_regresion['ESTU_INSE_INDIVIDUAL'])[0,1]\n",
        "pearman_corr = spearmanr(tabla_regresion['PUNT_LECTURA_CRITICA'], tabla_regresion['ESTU_INSE_INDIVIDUAL'])\n",
        "kendall_corr = kendalltau(tabla_regresion['PUNT_LECTURA_CRITICA'], tabla_regresion['ESTU_INSE_INDIVIDUAL'])\n",
        "\n",
        "print(f\"Los coeficientes de correlacióon de Pearson, Spearman y Kendall son respectivamente: {pearson_corr}, {pearman_corr}, {kendall_corr}\")\n",
        "\n",
        "pearson_corr = np.corrcoef(tabla_regresion['PUNT_MATEMATICAS'], tabla_regresion['ESTU_INSE_INDIVIDUAL'])[0,1]\n",
        "pearman_corr = spearmanr(tabla_regresion['PUNT_MATEMATICAS'], tabla_regresion['ESTU_INSE_INDIVIDUAL'])\n",
        "kendall_corr = kendalltau(tabla_regresion['PUNT_MATEMATICAS'], tabla_regresion['ESTU_INSE_INDIVIDUAL'])\n",
        "\n",
        "print(f\"Los coeficientes de correlacióon de Pearson, Spearman y Kendall son respectivamente: {pearson_corr}, {pearman_corr}, {kendall_corr}\")\n",
        "\n",
        "pearson_corr = np.corrcoef(tabla_regresion['PUNT_SOCIALES_CIUDADANAS'], tabla_regresion['ESTU_INSE_INDIVIDUAL'])[0,1]\n",
        "pearman_corr = spearmanr(tabla_regresion['PUNT_SOCIALES_CIUDADANAS'], tabla_regresion['ESTU_INSE_INDIVIDUAL'])\n",
        "kendall_corr = kendalltau(tabla_regresion['PUNT_SOCIALES_CIUDADANAS'], tabla_regresion['ESTU_INSE_INDIVIDUAL'])\n",
        "\n",
        "print(f\"Los coeficientes de correlacióon de Pearson, Spearman y Kendall son respectivamente: {pearson_corr}, {pearman_corr}, {kendall_corr}\")"
      ],
      "metadata": {
        "id": "xsqOYQKME64r"
      },
      "execution_count": null,
      "outputs": []
    },
    {
      "cell_type": "code",
      "source": [
        "icfes_connan = datos_icfes[(datos_icfes['ESTU_INSE_INDIVIDUAL'].isna()) &\n",
        " (~datos_icfes['PUNT_LECTURA_CRITICA'].isna()) &\n",
        "  (~datos_icfes['PUNT_MATEMATICAS'].isna()) &\n",
        "   (~datos_icfes['PUNT_C_NATURALES'].isna()) &\n",
        "    (~datos_icfes['PUNT_SOCIALES_CIUDADANAS'].isna()) &\n",
        "     (~datos_icfes['PUNT_INGLES'].isna())]\n",
        "\n",
        "icfes_connan.head(10)\n",
        "\n",
        "tabla_regresion1 = icfes_connan[['ESTU_INSE_INDIVIDUAL', 'PUNT_INGLES', 'PUNT_SOCIALES_CIUDADANAS',\n",
        "                                 'PUNT_C_NATURALES', 'PUNT_MATEMATICAS', 'PUNT_LECTURA_CRITICA']]\n",
        "tabla_regresion.head(4)\n",
        "\n",
        "X_no = tabla_regresion1.drop(\"ESTU_INSE_INDIVIDUAL\", axis = 1)\n",
        "mlp_reg.predict(X_no)\n",
        "\n",
        "tabla_regresion1['ESTU_INSE_INDIVIDUAL'] = mlp_reg.predict(X_no)\n",
        "tabla_regresion1"
      ],
      "metadata": {
        "id": "XbdUcvALFIRp"
      },
      "execution_count": null,
      "outputs": []
    }
  ]
}